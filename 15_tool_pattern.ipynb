{
 "cells": [
  {
   "cell_type": "code",
   "execution_count": 88,
   "id": "1c851271-9b5a-4b48-a0e0-bf889cfb303b",
   "metadata": {},
   "outputs": [],
   "source": [
    "import json\n",
    "import os\n",
    "import re\n",
    "from rich.console import Console\n",
    "from groq import Groq\n",
    "from openai import OpenAI\n",
    "from dotenv import load_dotenv"
   ]
  },
  {
   "cell_type": "code",
   "execution_count": 89,
   "id": "dc25b06f",
   "metadata": {},
   "outputs": [
    {
     "name": "stdout",
     "output_type": "stream",
     "text": [
      "OpenAI API Key exists and begins sk-proj-\n",
      "Anthropic API Key not set\n",
      "groq API Key exists and begins gsk_p3V\n"
     ]
    }
   ],
   "source": [
    "# Remember to load the environment variables. You should have the Groq API Key in there :)\n",
    "load_dotenv()\n",
    "\n",
    "openai_api_key = os.getenv(\"OPENAI_API_KEY\")\n",
    "anthropic_api_key = os.getenv(\"ANTHROPIC_API_KEY\")\n",
    "groq_api_key = os.getenv(\"GROQ_API_KEY\")\n",
    "# google_api_key = os.getenv('GOOGLE_API_KEY')\n",
    "\n",
    "if openai_api_key:\n",
    "    print(f\"OpenAI API Key exists and begins {openai_api_key[:8]}\")\n",
    "else:\n",
    "    print(\"OpenAI API Key not set\")\n",
    "\n",
    "if anthropic_api_key:\n",
    "    print(f\"Anthropic API Key exists and begins {anthropic_api_key[:7]}\")\n",
    "else:\n",
    "    print(\"Anthropic API Key not set\")\n",
    "\n",
    "if groq_api_key:\n",
    "    print(f\"groq API Key exists and begins {groq_api_key[:7]}\")\n",
    "else:\n",
    "    print(\"Groq API Key not set\")"
   ]
  },
  {
   "cell_type": "code",
   "execution_count": 90,
   "id": "815b9044",
   "metadata": {},
   "outputs": [],
   "source": [
    "console = Console()"
   ]
  },
  {
   "cell_type": "code",
   "execution_count": 91,
   "id": "2527b8aa",
   "metadata": {},
   "outputs": [],
   "source": [
    "def get_current_weather(location: str, unit: str):\n",
    "    \"\"\"\n",
    "    Get the current weather in a given location\n",
    "\n",
    "    location (str): The city and state, e.g. Madrid, Barcelona\n",
    "    unit (str): The unit. It can take two values; \"celsius\", \"fahrenheit\"\n",
    "    \"\"\"\n",
    "    if location == \"Madrid\":\n",
    "        return json.dumps({\"temperature\": 25, \"unit\": unit})\n",
    "\n",
    "    else:\n",
    "        return json.dumps({\"temperature\": 58, \"unit\": unit})"
   ]
  },
  {
   "cell_type": "code",
   "execution_count": 92,
   "id": "d941358b",
   "metadata": {},
   "outputs": [],
   "source": [
    "def add(num1, num2):\n",
    "    return num1 + num2"
   ]
  },
  {
   "cell_type": "code",
   "execution_count": 93,
   "id": "8339c3c3",
   "metadata": {},
   "outputs": [],
   "source": [
    "def parse_tool_call_str(tool_call_str: str):\n",
    "    # </? matches either a < or a </ (the ? makes the / optional). This matches the opening or closing angle bracket of an HTML tag.\n",
    "\n",
    "    pattern = r\"</?tool_call>\"\n",
    "\n",
    "    clean_tags = re.sub(pattern, \"\", tool_call_str)\n",
    "\n",
    "    try:\n",
    "\n",
    "        tool_call_json = json.loads(clean_tags)\n",
    "\n",
    "        return tool_call_json\n",
    "\n",
    "    except json.JSONDecodeError:\n",
    "\n",
    "        return clean_tags\n",
    "\n",
    "    except Exception as e:\n",
    "\n",
    "        print(f\"Unexpected error: {e}\")\n",
    "\n",
    "        return \"There was some error parsing the Tool's output\""
   ]
  },
  {
   "cell_type": "code",
   "execution_count": 94,
   "id": "3f52e61e-be31-4e6f-9f4f-eeb7082ad827",
   "metadata": {},
   "outputs": [
    {
     "data": {
      "text/html": [
       "<pre style=\"white-space:pre;overflow-x:auto;line-height:normal;font-family:Menlo,'DejaVu Sans Mono',consolas,'Courier New',monospace\"><span style=\"font-weight: bold\">{</span><span style=\"color: #008000; text-decoration-color: #008000\">\"temperature\"</span>: <span style=\"color: #008080; text-decoration-color: #008080; font-weight: bold\">25</span>, <span style=\"color: #008000; text-decoration-color: #008000\">\"unit\"</span>: <span style=\"color: #008000; text-decoration-color: #008000\">\"celsius\"</span><span style=\"font-weight: bold\">}</span>\n",
       "</pre>\n"
      ],
      "text/plain": [
       "\u001b[1m{\u001b[0m\u001b[32m\"temperature\"\u001b[0m: \u001b[1;36m25\u001b[0m, \u001b[32m\"unit\"\u001b[0m: \u001b[32m\"celsius\"\u001b[0m\u001b[1m}\u001b[0m\n"
      ]
     },
     "metadata": {},
     "output_type": "display_data"
    }
   ],
   "source": [
    "console.print(get_current_weather(location=\"Madrid\", unit=\"celsius\"))"
   ]
  },
  {
   "cell_type": "code",
   "execution_count": 95,
   "id": "b23e4db1",
   "metadata": {},
   "outputs": [],
   "source": [
    "LLM = \"GROQ\"\n",
    "LLM = \"OPENAI\"\n",
    "\n",
    "if LLM == \"GROQ\":\n",
    "    client = Groq()\n",
    "    MODEL = \"llama3-groq-70b-8192-tool-use-preview\"\n",
    "if LLM == \"OPENAI\":\n",
    "    client = OpenAI()\n",
    "    MODEL = \"gpt-4o-mini\""
   ]
  },
  {
   "cell_type": "code",
   "execution_count": 96,
   "id": "3f5aedb9",
   "metadata": {},
   "outputs": [],
   "source": [
    "# Define the System Prompt as a constant\n",
    "TOOL_SYSTEM_PROMPT = \"\"\"\n",
    "You are a function calling AI model. You are provided with function signatures within <tools></tools> XML tags. \n",
    "You may call one or more functions to assist with the user query. Don't make assumptions about what values to plug \n",
    "into functions. Pay special attention to the properties 'types'. You should use those types as in a Python dict.\n",
    "For each function call return a json object with function name and arguments within <tool_call></tool_call> XML tags as follows:\n",
    "\n",
    "<tool_call>\n",
    "{\"name\": <function-name>,\"arguments\": <args-dict>}\n",
    "</tool_call>\n",
    "\n",
    "Here are the available tools:\n",
    "\n",
    "<tools> {\n",
    "    \"name\": \"get_current_weather\",\n",
    "    \"description\": \"Get the current weather in a given location location (str): The city and state, e.g. Madrid, Barcelona unit (str): The unit. It can take two values; 'celsius', 'fahrenheit'\",\n",
    "    \"parameters\": {\n",
    "        \"properties\": {\n",
    "            \"location\": {\n",
    "                \"type\": \"str\"\n",
    "            },\n",
    "            \"unit\": {\n",
    "                \"type\": \"str\"\n",
    "            }\n",
    "        }\n",
    "    }\n",
    "}\n",
    "</tools>\n",
    "<tools> {\n",
    "    \"name\": \"add\",\n",
    "    \"description\": \"Adds two numbers and returns result\",\n",
    "    \"parameters\": {\n",
    "        \"properties\": {\n",
    "            \"num1\": {\n",
    "                \"type\": \"int\"\n",
    "            },\n",
    "            \"num2\": {\n",
    "                \"type\": \"int\"\n",
    "            }\n",
    "        }\n",
    "    }\n",
    "}\n",
    "</tools>\n",
    "\"\"\""
   ]
  },
  {
   "cell_type": "code",
   "execution_count": 97,
   "id": "e00b09e8-55d3-4a59-a9cf-29329af78d9a",
   "metadata": {},
   "outputs": [
    {
     "name": "stdout",
     "output_type": "stream",
     "text": [
      "<tool_call>\n",
      "{\"name\": \"get_current_weather\",\"arguments\": {\"location\": \"Madrid\",\"unit\": \"celsius\"}}\n",
      "</tool_call>\n"
     ]
    }
   ],
   "source": [
    "tool_chat_history = [{\"role\": \"system\", \"content\": TOOL_SYSTEM_PROMPT}]\n",
    "agent_chat_history = []\n",
    "\n",
    "user_msg = {\n",
    "    \"role\": \"user\",\n",
    "    # \"content\": \"What is 10 plus 15 equal to?\",\n",
    "    \"content\": \"What's the current temperature in Madrid, in Celsius?\",\n",
    "}\n",
    "\n",
    "tool_chat_history.append(user_msg)\n",
    "agent_chat_history.append(user_msg)\n",
    "\n",
    "output = (\n",
    "    client.chat.completions.create(messages=tool_chat_history, model=MODEL)\n",
    "    .choices[0]\n",
    "    .message.content\n",
    ")\n",
    "\n",
    "print(output)"
   ]
  },
  {
   "cell_type": "code",
   "execution_count": 98,
   "id": "c5890ba4-3f2f-4dc8-9a62-dff0079f07bb",
   "metadata": {},
   "outputs": [
    {
     "data": {
      "text/plain": [
       "{'name': 'get_current_weather',\n",
       " 'arguments': {'location': 'Madrid', 'unit': 'celsius'}}"
      ]
     },
     "execution_count": 98,
     "metadata": {},
     "output_type": "execute_result"
    }
   ],
   "source": [
    "parsed_output = parse_tool_call_str(output)\n",
    "parsed_output"
   ]
  },
  {
   "cell_type": "code",
   "execution_count": 99,
   "id": "5c00ec64",
   "metadata": {},
   "outputs": [],
   "source": [
    "if parsed_output[\"name\"] == \"add\":\n",
    "    num1 = parsed_output[\"arguments\"][\"num1\"]\n",
    "    num2 = parsed_output[\"arguments\"][\"num2\"]\n",
    "\n",
    "    result = add(num1, num2)\n",
    "    console.print(\n",
    "        f\"[dark_orange bold]{parsed_output[\"name\"]}[/] called with {num1} and {num2} with a result of [dark_orange]{result}[/]\"\n",
    "    )"
   ]
  },
  {
   "cell_type": "code",
   "execution_count": 100,
   "id": "169f06bb-836d-4270-bd66-abc2aadc0757",
   "metadata": {},
   "outputs": [],
   "source": [
    "if parsed_output[\"name\"] == \"get_current_weather\":\n",
    "    location = parsed_output[\"arguments\"][\"location\"]\n",
    "    unit = parsed_output[\"arguments\"][\"unit\"]\n",
    "    result = get_current_weather(location, unit)"
   ]
  },
  {
   "cell_type": "code",
   "execution_count": 101,
   "id": "3fb0fc08-dad9-42cd-a2a9-674b8191d06b",
   "metadata": {},
   "outputs": [],
   "source": [
    "agent_chat_history.append({\"role\": \"user\", \"content\": f\"Observation: {result}\"})"
   ]
  },
  {
   "cell_type": "code",
   "execution_count": 102,
   "id": "b610fb1f-24af-4cc1-b485-fa0c5bfca846",
   "metadata": {},
   "outputs": [
    {
     "data": {
      "text/html": [
       "<pre style=\"white-space:pre;overflow-x:auto;line-height:normal;font-family:Menlo,'DejaVu Sans Mono',consolas,'Courier New',monospace\"><span style=\"color: #ff8700; text-decoration-color: #ff8700; font-weight: bold\">The current temperature in Madrid is </span><span style=\"color: #ff8700; text-decoration-color: #ff8700; font-weight: bold\">25</span><span style=\"color: #ff8700; text-decoration-color: #ff8700; font-weight: bold\"> degrees Celsius.</span>\n",
       "</pre>\n"
      ],
      "text/plain": [
       "\u001b[1;38;5;208mThe current temperature in Madrid is \u001b[0m\u001b[1;38;5;208m25\u001b[0m\u001b[1;38;5;208m degrees Celsius.\u001b[0m\n"
      ]
     },
     "metadata": {},
     "output_type": "display_data"
    }
   ],
   "source": [
    "answer = (\n",
    "    client.chat.completions.create(messages=agent_chat_history, model=MODEL)\n",
    "    .choices[0]\n",
    "    .message.content\n",
    ")\n",
    "console.print(f\"[dark_orange bold]{answer}[/]\")"
   ]
  }
 ],
 "metadata": {
  "kernelspec": {
   "display_name": "venv",
   "language": "python",
   "name": "python3"
  },
  "language_info": {
   "codemirror_mode": {
    "name": "ipython",
    "version": 3
   },
   "file_extension": ".py",
   "mimetype": "text/x-python",
   "name": "python",
   "nbconvert_exporter": "python",
   "pygments_lexer": "ipython3",
   "version": "3.12.8"
  }
 },
 "nbformat": 4,
 "nbformat_minor": 5
}
