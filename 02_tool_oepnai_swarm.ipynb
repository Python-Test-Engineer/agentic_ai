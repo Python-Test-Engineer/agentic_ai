{
 "cells": [
  {
   "cell_type": "code",
   "execution_count": 1,
   "id": "84551dee",
   "metadata": {},
   "outputs": [],
   "source": [
    "import os\n",
    "from swarm import Swarm, Agent\n",
    "from dotenv import load_dotenv\n",
    "from time import sleep"
   ]
  },
  {
   "cell_type": "markdown",
   "id": "6a78b8cf",
   "metadata": {},
   "source": []
  },
  {
   "cell_type": "code",
   "execution_count": 2,
   "id": "1179b4c5-cd1f-4131-a876-4c9f3f38d2ba",
   "metadata": {},
   "outputs": [
    {
     "name": "stdout",
     "output_type": "stream",
     "text": [
      "OpenAI API Key exists and begins sk-proj-\n"
     ]
    }
   ],
   "source": [
    "load_dotenv()\n",
    "openai_api_key = os.getenv(\"OPENAI_API_KEY\")\n",
    "\n",
    "if openai_api_key:\n",
    "    print(f\"OpenAI API Key exists and begins {openai_api_key[:8]}\")\n",
    "else:\n",
    "    print(\"OpenAI API Key not set\")"
   ]
  },
  {
   "cell_type": "code",
   "execution_count": 3,
   "id": "bebad50d",
   "metadata": {},
   "outputs": [
    {
     "name": "stdout",
     "output_type": "stream",
     "text": [
      "Running manager Assistant for Weather...\n",
      "Thinking...\n",
      "I know what to do...\n",
      "Transferring to Weather Assistant...\n",
      "Running weather function for New York...\n",
      "The current temperature in New York is 33°C.\n",
      "\n",
      "Running manager Assistant for Stock Price...\n",
      "Transferring to Stock Price Assistant...\n",
      "Running stock price function for AAPL...\n",
      "Thinking...\n",
      "I know what to do...\n",
      "The latest stock price for AAPL is $44.\n"
     ]
    }
   ],
   "source": [
    "# Initialize Swarm client\n",
    "client = Swarm()\n",
    "\n",
    "\n",
    "def get_weather(location):\n",
    "    print(f\"Running weather function for {location}...\")\n",
    "    return f\"The weather is {33}°C.\"\n",
    "\n",
    "\n",
    "def get_stock_price(ticker):\n",
    "    print(f\"Running stock price function for {ticker}...\")\n",
    "    print(\"Thinking...\")\n",
    "    sleep(1)\n",
    "    print(\"I know what to do...\")\n",
    "    return 44\n",
    "\n",
    "\n",
    "# Function to transfer from manager agent to weather agent\n",
    "def transfer_to_weather_assistant():\n",
    "    print(\"Thinking...\")\n",
    "    sleep(1)\n",
    "    print(\"I know what to do...\")\n",
    "    print(\"Transferring to Weather Assistant...\")\n",
    "    return weather_agent\n",
    "\n",
    "\n",
    "# Function to transfer from manager agent to stock price agent\n",
    "def transfer_to_stockprice_assistant():\n",
    "    print(\"Transferring to Stock Price Assistant...\")\n",
    "    return stockprice_agent\n",
    "\n",
    "\n",
    "# manager Agent\n",
    "manager_agent = Agent(\n",
    "    name=\"manager Assistant\",\n",
    "    instructions=\"You help users by directing them to the right assistant.\",\n",
    "    functions=[transfer_to_weather_assistant, transfer_to_stockprice_assistant],\n",
    ")\n",
    "\n",
    "# Weather Agent\n",
    "weather_agent = Agent(\n",
    "    name=\"Weather Assistant\",\n",
    "    instructions=\"You provide weather information for a given location using the provided tool\",\n",
    "    functions=[get_weather],\n",
    ")\n",
    "\n",
    "# Stock Price Agent\n",
    "stockprice_agent = Agent(\n",
    "    name=\"Stock Price Assistant\",\n",
    "    instructions=\"You provide the latest stock price for a given ticker symbol using the yfinance library.\",\n",
    "    functions=[get_stock_price],\n",
    ")\n",
    "\n",
    "print(\"Running manager Assistant for Weather...\")\n",
    "response = client.run(\n",
    "    agent=manager_agent,\n",
    "    messages=[{\"role\": \"user\", \"content\": \"What's the weather in New York?\"}],\n",
    ")\n",
    "print(response.messages[-1][\"content\"])\n",
    "\n",
    "# Example: User query handled by manager agent to get stock price\n",
    "print(\"\\nRunning manager Assistant for Stock Price...\")\n",
    "response = client.run(\n",
    "    agent=manager_agent,\n",
    "    messages=[{\"role\": \"user\", \"content\": \"Get me the stock price of AAPL.\"}],\n",
    ")\n",
    "\n",
    "print(response.messages[-1][\"content\"])"
   ]
  }
 ],
 "metadata": {
  "kernelspec": {
   "display_name": "venv",
   "language": "python",
   "name": "python3"
  },
  "language_info": {
   "codemirror_mode": {
    "name": "ipython",
    "version": 3
   },
   "file_extension": ".py",
   "mimetype": "text/x-python",
   "name": "python",
   "nbconvert_exporter": "python",
   "pygments_lexer": "ipython3",
   "version": "3.12.1"
  }
 },
 "nbformat": 4,
 "nbformat_minor": 5
}
