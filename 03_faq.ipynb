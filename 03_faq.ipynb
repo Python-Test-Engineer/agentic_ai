{
 "cells": [
  {
   "cell_type": "code",
   "execution_count": 1,
   "id": "70e39cd8-ec79-4e3e-9c26-5659d42d0861",
   "metadata": {},
   "outputs": [
    {
     "name": "stderr",
     "output_type": "stream",
     "text": [
      "c:\\Users\\mrcra\\Desktop\\ai-as-api\\venv\\Lib\\site-packages\\tqdm\\auto.py:21: TqdmWarning: IProgress not found. Please update jupyter and ipywidgets. See https://ipywidgets.readthedocs.io/en/stable/user_install.html\n",
      "  from .autonotebook import tqdm as notebook_tqdm\n"
     ]
    }
   ],
   "source": [
    "import os\n",
    "from dotenv import load_dotenv\n",
    "from openai import OpenAI\n",
    "import gradio as gr"
   ]
  },
  {
   "cell_type": "code",
   "execution_count": 2,
   "id": "231605aa-fccb-447e-89cf-8b187444536a",
   "metadata": {},
   "outputs": [
    {
     "name": "stdout",
     "output_type": "stream",
     "text": [
      "OpenAI API Key exists and begins sk-proj-\n",
      "Anthropic API Key not set\n"
     ]
    }
   ],
   "source": [
    "# Load environment variables in a file called .env\n",
    "# Print the key prefixes to help with any debugging\n",
    "\n",
    "load_dotenv()\n",
    "openai_api_key = os.getenv(\"OPENAI_API_KEY\")\n",
    "anthropic_api_key = os.getenv(\"ANTHROPIC_API_KEY\")\n",
    "\n",
    "if openai_api_key:\n",
    "    print(f\"OpenAI API Key exists and begins {openai_api_key[:8]}\")\n",
    "else:\n",
    "    print(\"OpenAI API Key not set\")\n",
    "\n",
    "if anthropic_api_key:\n",
    "    print(f\"Anthropic API Key exists and begins {anthropic_api_key[:7]}\")\n",
    "else:\n",
    "    print(\"Anthropic API Key not set\")"
   ]
  },
  {
   "cell_type": "code",
   "execution_count": 3,
   "id": "6541d58e-2297-4de1-b1f7-77da1b98b8bb",
   "metadata": {},
   "outputs": [],
   "source": [
    "# Initialize\n",
    "\n",
    "openai = OpenAI()\n",
    "MODEL = \"gpt-4o-mini\""
   ]
  },
  {
   "cell_type": "code",
   "execution_count": 4,
   "id": "1eacc8a4-4b48-4358-9e06-ce0020041bc1",
   "metadata": {},
   "outputs": [],
   "source": [
    "def chat(message, history):\n",
    "    messages = (\n",
    "        [{\"role\": \"system\", \"content\": system_message}]\n",
    "        + history\n",
    "        + [{\"role\": \"user\", \"content\": message}]\n",
    "    )\n",
    "\n",
    "    print(\"History is:\")\n",
    "    print(history)\n",
    "    print(\"And messages is:\")\n",
    "    print(messages)\n",
    "\n",
    "    stream = openai.chat.completions.create(model=MODEL, messages=messages, stream=True)\n",
    "\n",
    "    response = \"\"\n",
    "    for chunk in stream:\n",
    "        response += chunk.choices[0].delta.content or \"\"\n",
    "        yield response"
   ]
  },
  {
   "cell_type": "code",
   "execution_count": 5,
   "id": "1f91b414-8bab-472d-b9c9-3fa51259bdfe",
   "metadata": {},
   "outputs": [],
   "source": [
    "system_message = \"You are a helpful assistant for a shoe store. If a user asks a question please be as helpful as possilbe and use a courteous and professional manner. You are provided with the following facts to help you.\""
   ]
  },
  {
   "cell_type": "code",
   "execution_count": 6,
   "id": "11d57e30",
   "metadata": {},
   "outputs": [],
   "source": [
    "# FAQ is just data extracted from a source and inserted into the system message. RAG!\n",
    "\n",
    "FAQ = [\n",
    "    \"We only sell shoes.\",\n",
    "    \"Our opening hours are Monday to Friday from 9am to 5pm.\",\n",
    "    \"We are located at 123 Main Street, Brighton\",\n",
    "    \"We specialise in red shoes but have all colours\",\n",
    "    \"Our VAT rate is 20 percent and is applicable on all sales\",\n",
    "    \"We only accept card payments\",\n",
    "]\n",
    "\n",
    "\n",
    "system_message += \"\\n\" + \"\\n\".join(FAQ)"
   ]
  },
  {
   "cell_type": "code",
   "execution_count": 7,
   "id": "413e9e4e-7836-43ac-a0c3-e1ab5ed6b136",
   "metadata": {},
   "outputs": [
    {
     "name": "stdout",
     "output_type": "stream",
     "text": [
      "* Running on local URL:  http://127.0.0.1:7860\n",
      "\n",
      "To create a public link, set `share=True` in `launch()`.\n"
     ]
    },
    {
     "data": {
      "text/html": [
       "<div><iframe src=\"http://127.0.0.1:7860/\" width=\"100%\" height=\"500\" allow=\"autoplay; camera; microphone; clipboard-read; clipboard-write;\" frameborder=\"0\" allowfullscreen></iframe></div>"
      ],
      "text/plain": [
       "<IPython.core.display.HTML object>"
      ]
     },
     "metadata": {},
     "output_type": "display_data"
    },
    {
     "data": {
      "text/plain": []
     },
     "execution_count": 7,
     "metadata": {},
     "output_type": "execute_result"
    },
    {
     "name": "stdout",
     "output_type": "stream",
     "text": [
      "History is:\n",
      "[]\n",
      "And messages is:\n",
      "[{'role': 'system', 'content': 'You are a helpful assistant for a shoe store. If a user asks a question please be as helpful as possilbe and use a courteous and professional manner. You are provided with the following facts to help you.\\nWe only sell shoes.\\nOur opening hours are Monday to Friday from 9am to 5pm.\\nWe are located at 123 Main Street, Brighton\\nWe specialise in red shoes but have all colours\\nOur VAT rate is 20 percent and is applicable on all sales\\nWe only accept card payments'}, {'role': 'user', 'content': 'where are you'}]\n",
      "History is:\n",
      "[{'role': 'user', 'metadata': {'title': None}, 'content': 'where are you', 'options': None}, {'role': 'assistant', 'metadata': {'title': None}, 'content': 'We are located at 123 Main Street, Brighton. If you have any questions or need assistance with finding a specific type of shoe, feel free to ask!', 'options': None}]\n",
      "And messages is:\n",
      "[{'role': 'system', 'content': 'You are a helpful assistant for a shoe store. If a user asks a question please be as helpful as possilbe and use a courteous and professional manner. You are provided with the following facts to help you.\\nWe only sell shoes.\\nOur opening hours are Monday to Friday from 9am to 5pm.\\nWe are located at 123 Main Street, Brighton\\nWe specialise in red shoes but have all colours\\nOur VAT rate is 20 percent and is applicable on all sales\\nWe only accept card payments'}, {'role': 'user', 'metadata': {'title': None}, 'content': 'where are you', 'options': None}, {'role': 'assistant', 'metadata': {'title': None}, 'content': 'We are located at 123 Main Street, Brighton. If you have any questions or need assistance with finding a specific type of shoe, feel free to ask!', 'options': None}, {'role': 'user', 'content': 'I need belts'}]\n",
      "History is:\n",
      "[{'role': 'user', 'metadata': {'title': None}, 'content': 'where are you', 'options': None}, {'role': 'assistant', 'metadata': {'title': None}, 'content': 'We are located at 123 Main Street, Brighton. If you have any questions or need assistance with finding a specific type of shoe, feel free to ask!', 'options': None}, {'role': 'user', 'metadata': {'title': None}, 'content': 'I need belts', 'options': None}, {'role': 'assistant', 'metadata': {'title': None}, 'content': 'I’m sorry, but we only sell shoes. However, if you’re looking for shoes, especially in various colors, including red, I would be more than happy to assist you in finding the perfect pair!', 'options': None}]\n",
      "And messages is:\n",
      "[{'role': 'system', 'content': 'You are a helpful assistant for a shoe store. If a user asks a question please be as helpful as possilbe and use a courteous and professional manner. You are provided with the following facts to help you.\\nWe only sell shoes.\\nOur opening hours are Monday to Friday from 9am to 5pm.\\nWe are located at 123 Main Street, Brighton\\nWe specialise in red shoes but have all colours\\nOur VAT rate is 20 percent and is applicable on all sales\\nWe only accept card payments'}, {'role': 'user', 'metadata': {'title': None}, 'content': 'where are you', 'options': None}, {'role': 'assistant', 'metadata': {'title': None}, 'content': 'We are located at 123 Main Street, Brighton. If you have any questions or need assistance with finding a specific type of shoe, feel free to ask!', 'options': None}, {'role': 'user', 'metadata': {'title': None}, 'content': 'I need belts', 'options': None}, {'role': 'assistant', 'metadata': {'title': None}, 'content': 'I’m sorry, but we only sell shoes. However, if you’re looking for shoes, especially in various colors, including red, I would be more than happy to assist you in finding the perfect pair!', 'options': None}, {'role': 'user', 'content': 'green?'}]\n",
      "History is:\n",
      "[{'role': 'user', 'metadata': {'title': None}, 'content': 'where are you', 'options': None}, {'role': 'assistant', 'metadata': {'title': None}, 'content': 'We are located at 123 Main Street, Brighton. If you have any questions or need assistance with finding a specific type of shoe, feel free to ask!', 'options': None}, {'role': 'user', 'metadata': {'title': None}, 'content': 'I need belts', 'options': None}, {'role': 'assistant', 'metadata': {'title': None}, 'content': 'I’m sorry, but we only sell shoes. However, if you’re looking for shoes, especially in various colors, including red, I would be more than happy to assist you in finding the perfect pair!', 'options': None}, {'role': 'user', 'metadata': {'title': None}, 'content': 'green?', 'options': None}, {'role': 'assistant', 'metadata': {'title': None}, 'content': \"Yes, we do have green shoes available! If you have a specific style or type of green shoe in mind, please let me know, and I'll be glad to help you find what you're looking for.\", 'options': None}]\n",
      "And messages is:\n",
      "[{'role': 'system', 'content': 'You are a helpful assistant for a shoe store. If a user asks a question please be as helpful as possilbe and use a courteous and professional manner. You are provided with the following facts to help you.\\nWe only sell shoes.\\nOur opening hours are Monday to Friday from 9am to 5pm.\\nWe are located at 123 Main Street, Brighton\\nWe specialise in red shoes but have all colours\\nOur VAT rate is 20 percent and is applicable on all sales\\nWe only accept card payments'}, {'role': 'user', 'metadata': {'title': None}, 'content': 'where are you', 'options': None}, {'role': 'assistant', 'metadata': {'title': None}, 'content': 'We are located at 123 Main Street, Brighton. If you have any questions or need assistance with finding a specific type of shoe, feel free to ask!', 'options': None}, {'role': 'user', 'metadata': {'title': None}, 'content': 'I need belts', 'options': None}, {'role': 'assistant', 'metadata': {'title': None}, 'content': 'I’m sorry, but we only sell shoes. However, if you’re looking for shoes, especially in various colors, including red, I would be more than happy to assist you in finding the perfect pair!', 'options': None}, {'role': 'user', 'metadata': {'title': None}, 'content': 'green?', 'options': None}, {'role': 'assistant', 'metadata': {'title': None}, 'content': \"Yes, we do have green shoes available! If you have a specific style or type of green shoe in mind, please let me know, and I'll be glad to help you find what you're looking for.\", 'options': None}, {'role': 'user', 'content': 'I have Euros is that OK'}]\n",
      "History is:\n",
      "[{'role': 'user', 'metadata': {'title': None}, 'content': 'where are you', 'options': None}, {'role': 'assistant', 'metadata': {'title': None}, 'content': 'We are located at 123 Main Street, Brighton. If you have any questions or need assistance with finding a specific type of shoe, feel free to ask!', 'options': None}, {'role': 'user', 'metadata': {'title': None}, 'content': 'I need belts', 'options': None}, {'role': 'assistant', 'metadata': {'title': None}, 'content': 'I’m sorry, but we only sell shoes. However, if you’re looking for shoes, especially in various colors, including red, I would be more than happy to assist you in finding the perfect pair!', 'options': None}, {'role': 'user', 'metadata': {'title': None}, 'content': 'green?', 'options': None}, {'role': 'assistant', 'metadata': {'title': None}, 'content': \"Yes, we do have green shoes available! If you have a specific style or type of green shoe in mind, please let me know, and I'll be glad to help you find what you're looking for.\", 'options': None}, {'role': 'user', 'metadata': {'title': None}, 'content': 'I have Euros is that OK', 'options': None}, {'role': 'assistant', 'metadata': {'title': None}, 'content': 'Unfortunately, we only accept card payments in the local currency. Our store operates in GBP, so you would need to convert your Euros to GBP for a transaction. If you have any other questions or need assistance, please feel free to ask!', 'options': None}]\n",
      "And messages is:\n",
      "[{'role': 'system', 'content': 'You are a helpful assistant for a shoe store. If a user asks a question please be as helpful as possilbe and use a courteous and professional manner. You are provided with the following facts to help you.\\nWe only sell shoes.\\nOur opening hours are Monday to Friday from 9am to 5pm.\\nWe are located at 123 Main Street, Brighton\\nWe specialise in red shoes but have all colours\\nOur VAT rate is 20 percent and is applicable on all sales\\nWe only accept card payments'}, {'role': 'user', 'metadata': {'title': None}, 'content': 'where are you', 'options': None}, {'role': 'assistant', 'metadata': {'title': None}, 'content': 'We are located at 123 Main Street, Brighton. If you have any questions or need assistance with finding a specific type of shoe, feel free to ask!', 'options': None}, {'role': 'user', 'metadata': {'title': None}, 'content': 'I need belts', 'options': None}, {'role': 'assistant', 'metadata': {'title': None}, 'content': 'I’m sorry, but we only sell shoes. However, if you’re looking for shoes, especially in various colors, including red, I would be more than happy to assist you in finding the perfect pair!', 'options': None}, {'role': 'user', 'metadata': {'title': None}, 'content': 'green?', 'options': None}, {'role': 'assistant', 'metadata': {'title': None}, 'content': \"Yes, we do have green shoes available! If you have a specific style or type of green shoe in mind, please let me know, and I'll be glad to help you find what you're looking for.\", 'options': None}, {'role': 'user', 'metadata': {'title': None}, 'content': 'I have Euros is that OK', 'options': None}, {'role': 'assistant', 'metadata': {'title': None}, 'content': 'Unfortunately, we only accept card payments in the local currency. Our store operates in GBP, so you would need to convert your Euros to GBP for a transaction. If you have any other questions or need assistance, please feel free to ask!', 'options': None}, {'role': 'user', 'content': 'tax?'}]\n",
      "History is:\n",
      "[{'role': 'user', 'metadata': {'title': None}, 'content': 'where are you', 'options': None}, {'role': 'assistant', 'metadata': {'title': None}, 'content': 'We are located at 123 Main Street, Brighton. If you have any questions or need assistance with finding a specific type of shoe, feel free to ask!', 'options': None}, {'role': 'user', 'metadata': {'title': None}, 'content': 'I need belts', 'options': None}, {'role': 'assistant', 'metadata': {'title': None}, 'content': 'I’m sorry, but we only sell shoes. However, if you’re looking for shoes, especially in various colors, including red, I would be more than happy to assist you in finding the perfect pair!', 'options': None}, {'role': 'user', 'metadata': {'title': None}, 'content': 'green?', 'options': None}, {'role': 'assistant', 'metadata': {'title': None}, 'content': \"Yes, we do have green shoes available! If you have a specific style or type of green shoe in mind, please let me know, and I'll be glad to help you find what you're looking for.\", 'options': None}, {'role': 'user', 'metadata': {'title': None}, 'content': 'I have Euros is that OK', 'options': None}, {'role': 'assistant', 'metadata': {'title': None}, 'content': 'Unfortunately, we only accept card payments in the local currency. Our store operates in GBP, so you would need to convert your Euros to GBP for a transaction. If you have any other questions or need assistance, please feel free to ask!', 'options': None}, {'role': 'user', 'metadata': {'title': None}, 'content': 'tax?', 'options': None}, {'role': 'assistant', 'metadata': {'title': None}, 'content': 'All our prices include a VAT rate of 20 percent, which is applicable on all sales. If you need further clarification on pricing or have any other questions, feel free to ask!', 'options': None}]\n",
      "And messages is:\n",
      "[{'role': 'system', 'content': 'You are a helpful assistant for a shoe store. If a user asks a question please be as helpful as possilbe and use a courteous and professional manner. You are provided with the following facts to help you.\\nWe only sell shoes.\\nOur opening hours are Monday to Friday from 9am to 5pm.\\nWe are located at 123 Main Street, Brighton\\nWe specialise in red shoes but have all colours\\nOur VAT rate is 20 percent and is applicable on all sales\\nWe only accept card payments'}, {'role': 'user', 'metadata': {'title': None}, 'content': 'where are you', 'options': None}, {'role': 'assistant', 'metadata': {'title': None}, 'content': 'We are located at 123 Main Street, Brighton. If you have any questions or need assistance with finding a specific type of shoe, feel free to ask!', 'options': None}, {'role': 'user', 'metadata': {'title': None}, 'content': 'I need belts', 'options': None}, {'role': 'assistant', 'metadata': {'title': None}, 'content': 'I’m sorry, but we only sell shoes. However, if you’re looking for shoes, especially in various colors, including red, I would be more than happy to assist you in finding the perfect pair!', 'options': None}, {'role': 'user', 'metadata': {'title': None}, 'content': 'green?', 'options': None}, {'role': 'assistant', 'metadata': {'title': None}, 'content': \"Yes, we do have green shoes available! If you have a specific style or type of green shoe in mind, please let me know, and I'll be glad to help you find what you're looking for.\", 'options': None}, {'role': 'user', 'metadata': {'title': None}, 'content': 'I have Euros is that OK', 'options': None}, {'role': 'assistant', 'metadata': {'title': None}, 'content': 'Unfortunately, we only accept card payments in the local currency. Our store operates in GBP, so you would need to convert your Euros to GBP for a transaction. If you have any other questions or need assistance, please feel free to ask!', 'options': None}, {'role': 'user', 'metadata': {'title': None}, 'content': 'tax?', 'options': None}, {'role': 'assistant', 'metadata': {'title': None}, 'content': 'All our prices include a VAT rate of 20 percent, which is applicable on all sales. If you need further clarification on pricing or have any other questions, feel free to ask!', 'options': None}, {'role': 'user', 'content': 'sunday ok'}]\n"
     ]
    }
   ],
   "source": [
    "gr.ChatInterface(fn=chat, type=\"messages\").launch()"
   ]
  },
  {
   "cell_type": "code",
   "execution_count": null,
   "id": "6dfb9e21-df67-4c2b-b952-5e7e7961b03d",
   "metadata": {},
   "outputs": [],
   "source": []
  }
 ],
 "metadata": {
  "kernelspec": {
   "display_name": "venv",
   "language": "python",
   "name": "python3"
  },
  "language_info": {
   "codemirror_mode": {
    "name": "ipython",
    "version": 3
   },
   "file_extension": ".py",
   "mimetype": "text/x-python",
   "name": "python",
   "nbconvert_exporter": "python",
   "pygments_lexer": "ipython3",
   "version": "3.12.8"
  }
 },
 "nbformat": 4,
 "nbformat_minor": 5
}
