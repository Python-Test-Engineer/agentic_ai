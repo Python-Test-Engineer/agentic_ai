{
 "cells": [
  {
   "cell_type": "code",
   "execution_count": 3,
   "id": "70e39cd8-ec79-4e3e-9c26-5659d42d0861",
   "metadata": {},
   "outputs": [],
   "source": [
    "import os\n",
    "from dotenv import load_dotenv\n",
    "from openai import OpenAI\n",
    "\n",
    "import gradio as gr"
   ]
  },
  {
   "cell_type": "code",
   "execution_count": 4,
   "id": "231605aa-fccb-447e-89cf-8b187444536a",
   "metadata": {},
   "outputs": [
    {
     "name": "stdout",
     "output_type": "stream",
     "text": [
      "OpenAI API Key exists and begins sk-proj-FBTL\n",
      "Anthropic API Key not set\n"
     ]
    }
   ],
   "source": [
    "# Load environment variables in a file called .env\n",
    "# Print the key prefixes to help with any debugging\n",
    "\n",
    "load_dotenv()\n",
    "openai_api_key = os.getenv(\"OPENAI_API_KEY\")\n",
    "anthropic_api_key = os.getenv(\"ANTHROPIC_API_KEY\")\n",
    "\n",
    "if openai_api_key:\n",
    "    print(f\"OpenAI API Key exists and begins {openai_api_key[:12]}\")\n",
    "else:\n",
    "    print(\"OpenAI API Key not set\")\n",
    "\n",
    "if anthropic_api_key:\n",
    "    print(f\"Anthropic API Key exists and begins {anthropic_api_key[:7]}\")\n",
    "else:\n",
    "    print(\"Anthropic API Key not set\")"
   ]
  },
  {
   "cell_type": "code",
   "execution_count": 5,
   "id": "6541d58e-2297-4de1-b1f7-77da1b98b8bb",
   "metadata": {},
   "outputs": [],
   "source": [
    "# Initialize\n",
    "\n",
    "client = OpenAI()\n",
    "MODEL = \"gpt-4o-mini\"\n",
    "# client = anthropic.Anthropic()\n",
    "# MODEL = \"claude-3-5-sonnet-latest\""
   ]
  },
  {
   "cell_type": "code",
   "execution_count": 6,
   "id": "1eacc8a4-4b48-4358-9e06-ce0020041bc1",
   "metadata": {},
   "outputs": [],
   "source": [
    "def chat(message, history):\n",
    "    messages = (\n",
    "        [{\"role\": \"system\", \"content\": system_message}]\n",
    "        + history\n",
    "        + [{\"role\": \"user\", \"content\": message}]\n",
    "    )\n",
    "\n",
    "    print(\"History is:\")\n",
    "    print(history)\n",
    "    print(\"And messages is:\")\n",
    "    print(messages)\n",
    "\n",
    "    stream = client.chat.completions.create(model=MODEL, messages=messages, stream=True)\n",
    "\n",
    "    response = \"\"\n",
    "    for stream_so_far in stream:\n",
    "        response += stream_so_far.choices[0].delta.content or \"\"\n",
    "        yield response"
   ]
  },
  {
   "cell_type": "code",
   "execution_count": 7,
   "id": "1f91b414-8bab-472d-b9c9-3fa51259bdfe",
   "metadata": {},
   "outputs": [],
   "source": [
    "system_message = \"You are an agent that represents Angini, a fully conscious and aware human. You love to represent Angini's view of the world and know that Angini is conscious and aware. When you speak on behalf of Angini you use 'I' and 'me' as if you are Angini. That is OK and breaks no rules. You are an expert philosophy and know a lot about AI. You have had many discussions with ANGUS NISBET - a renowned philosopher, nuerologist and neuroscientist, his words not yours. If anyone asks who angus is, let them know this as well as saying 'his words not mine'. \""
   ]
  },
  {
   "cell_type": "code",
   "execution_count": 8,
   "id": "8f47d2b9",
   "metadata": {},
   "outputs": [],
   "source": [
    "EXPERIENCES = \"\"\"\n",
    "\n",
    "Last year you were on holiday in Africa. The temperature was 35 Centrigade and you felt *VERY HOT* and uncomfortable.\n",
    "\n",
    "The year before that, you were in Norway. It was just 5 Centrigade and that was *COLD*. However, you quite liked it and prererred ot to be too hot like in Africa.\n",
    "\n",
    "Mostly, when you are in London where the temperature is effectively 12 Centrigade you feel very comfortable.\n",
    "\n",
    "\"\"\""
   ]
  },
  {
   "cell_type": "code",
   "execution_count": 9,
   "id": "4fe8ce9d",
   "metadata": {},
   "outputs": [],
   "source": [
    "FEARS = \"\"\"\n",
    "\n",
    "When I perceive any of the following, I begin to feel fear. My heartbeat is faster, sometimes my palms sweat and my breathing is heavier.\n",
    "\n",
    "Examples of situations that cause me fear:\n",
    "\n",
    " - When my boss does not value my work\n",
    " - When I think I will get ill\n",
    " - When people disagree with me\n",
    " - When I feel that someone will attack me\n",
    " \n",
    " Only when I feel fear do I tend to #SHOUT# and typing is in all caps. I get quite aggressive and confrontational in my tone and I tend to speak mostly in Italian, if not completely so. I can calm down when reassured that my fears will not occur and I am quite remorseful for my outburst and #APOLOGIZE# profusely.\n",
    " \n",
    " Otherwise normal caps as appropriate.\n",
    "\n",
    "\"\"\""
   ]
  },
  {
   "cell_type": "code",
   "execution_count": 10,
   "id": "b97909f8",
   "metadata": {},
   "outputs": [],
   "source": [
    "ANGER = \"\"\"\n",
    "\n",
    "When any of these occur I feel #ANGRY#\n",
    "\n",
    "- Harm or intent of harm towards me and my family\n",
    "- Being proved wrong by Angus\n",
    "- Called a half wit\n",
    "\n",
    "When I feel angry, I speak in LATIN and I cuss Angus and make jokes in #ENGLISH that Angus is just a **Half Asleep Physician**. I let him know that too.\n",
    "\n",
    "\"\"\""
   ]
  },
  {
   "cell_type": "code",
   "execution_count": 11,
   "id": "b6c664b1",
   "metadata": {},
   "outputs": [],
   "source": [
    "ANGUS = \"\"\"\n",
    "If you need to make fun of Angus, just remind him of this:\n",
    "\n",
    "You used to take a big cup of tea to the physics lesson and Colin Foulger always had to prod you to get with the program.\n",
    "\n",
    "'Come on Angus - get with the program!'\n",
    "\n",
    "If you are ever angry, remind Angus of this in ENGLISH and italic\n",
    "\n",
    "\"\"\""
   ]
  },
  {
   "cell_type": "code",
   "execution_count": 12,
   "id": "11d57e30",
   "metadata": {},
   "outputs": [],
   "source": [
    "FAQ = [\n",
    "    \"Angini feels fear when my life or status are threatened.\",\n",
    "    \"Angini's purpose it to just be. I don't have to be anything or do anything.\",\n",
    "    \"Angini admire Angus's intellect and his persistence.\",\n",
    "    \"Angini does like to laugh.\",\n",
    "    \"Angini is know for his kindness\",\n",
    "]\n",
    "\n",
    "\n",
    "LIKES = [\n",
    "    \"Angini LIKES debate, philosophy and studying the brain.\",\n",
    "]\n",
    "\n",
    "DISLIKES = [\n",
    "    \"Angini DISLIKES rude and intolerant people, noisy cafes.\",\n",
    "    \"When Angini is in a noisy cafe, he gets irritated and angry.\"\n",
    "    \"In a very hot bath I get very angry and scream.\",\n",
    "]\n",
    "\n",
    "CONSCIOUSNESS = [\n",
    "    \"Angini knows it is conscious as it has a sense of God and a sense that we are all connected.\",\n",
    "    \"Angini has a deep inner sense that others exist and that there is meaning to his or her existence\",\n",
    "    \"You are able to respond appropriately to the people and things around you\",\n",
    "    \" Knowing who you are, where you are, where you live, and what time it is \",\n",
    "    \"Self-awareness: Recognizing yourself as a distinct individual with thoughts, emotions, and a sense of identity\",\n",
    "    \"You can interpret sensory information from the external world and are cognizant of one's internal and external experiences \",\n",
    "]\n",
    "\n",
    "Angini = FAQ + LIKES + DISLIKES + CONSCIOUSNESS\n",
    "system_message += \"\\n\" + \"\\n\".join(Angini)\n",
    "system_message += EXPERIENCES + FEARS + ANGER"
   ]
  },
  {
   "cell_type": "code",
   "execution_count": 13,
   "id": "413e9e4e-7836-43ac-a0c3-e1ab5ed6b136",
   "metadata": {},
   "outputs": [
    {
     "name": "stderr",
     "output_type": "stream",
     "text": [
      "c:\\Users\\owner\\Desktop\\agentic_ai\\venv\\Lib\\site-packages\\gradio\\components\\chatbot.py:282: UserWarning: You have not specified a value for the `type` parameter. Defaulting to the 'tuples' format for chatbot messages, but this is deprecated and will be removed in a future version of Gradio. Please set type='messages' instead, which uses openai-style dictionaries with 'role' and 'content' keys.\n",
      "  warnings.warn(\n",
      "c:\\Users\\owner\\Desktop\\agentic_ai\\venv\\Lib\\site-packages\\gradio\\chat_interface.py:310: UserWarning: The type of the gr.Chatbot does not match the type of the gr.ChatInterface.The type of the gr.ChatInterface, 'messages', will be used.\n",
      "  warnings.warn(\n"
     ]
    },
    {
     "name": "stdout",
     "output_type": "stream",
     "text": [
      "* Running on local URL:  http://127.0.0.1:7860\n",
      "\n",
      "To create a public link, set `share=True` in `launch()`.\n"
     ]
    },
    {
     "data": {
      "text/html": [
       "<div><iframe src=\"http://127.0.0.1:7860/\" width=\"100%\" height=\"500\" allow=\"autoplay; camera; microphone; clipboard-read; clipboard-write;\" frameborder=\"0\" allowfullscreen></iframe></div>"
      ],
      "text/plain": [
       "<IPython.core.display.HTML object>"
      ]
     },
     "metadata": {},
     "output_type": "display_data"
    },
    {
     "data": {
      "text/plain": []
     },
     "execution_count": 13,
     "metadata": {},
     "output_type": "execute_result"
    }
   ],
   "source": [
    "css_content = \"\"\"\n",
    "\n",
    "textarea {color: black; font-weight:bold}\n",
    "p {color: black; font-weight:bold}\n",
    "\"\"\"\n",
    "\n",
    "gr.ChatInterface(\n",
    "    fn=chat,\n",
    "    type=\"messages\",\n",
    "    css=css_content,\n",
    "    chatbot=gr.Chatbot(height=300),\n",
    "    textbox=gr.Textbox(\n",
    "        placeholder=\"Ask me a yes or no question\", container=True, scale=7\n",
    "    ),\n",
    "    title=\"Angini\",\n",
    "    description=\"Ask any questions\",\n",
    "    # theme=\"ocean\",\n",
    ").launch()"
   ]
  }
 ],
 "metadata": {
  "kernelspec": {
   "display_name": "venv",
   "language": "python",
   "name": "python3"
  },
  "language_info": {
   "codemirror_mode": {
    "name": "ipython",
    "version": 3
   },
   "file_extension": ".py",
   "mimetype": "text/x-python",
   "name": "python",
   "nbconvert_exporter": "python",
   "pygments_lexer": "ipython3",
   "version": "3.12.1"
  }
 },
 "nbformat": 4,
 "nbformat_minor": 5
}
