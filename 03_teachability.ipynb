{
 "cells": [
  {
   "cell_type": "code",
   "execution_count": 37,
   "id": "de23bb9e-37c5-4377-9a82-d7b6c648eeb6",
   "metadata": {},
   "outputs": [],
   "source": [
    "import os\n",
    "import json\n",
    "from openai import OpenAI\n",
    "from dotenv import load_dotenv\n",
    "from pprint import pprint"
   ]
  },
  {
   "cell_type": "markdown",
   "id": "6a78b8cf",
   "metadata": {},
   "source": []
  },
  {
   "cell_type": "code",
   "execution_count": 38,
   "id": "1179b4c5-cd1f-4131-a876-4c9f3f38d2ba",
   "metadata": {},
   "outputs": [
    {
     "name": "stdout",
     "output_type": "stream",
     "text": [
      "OpenAI API Key exists and begins:sk-proj-\n"
     ]
    }
   ],
   "source": [
    "# Load environment variables in a file called .env\n",
    "# Print the key prefixes to help with any debugging\n",
    "\n",
    "load_dotenv()\n",
    "openai_api_key = os.getenv(\"OPENAI_API_KEY\")\n",
    "\n",
    "\n",
    "if openai_api_key:\n",
    "    print(f\"OpenAI API Key exists and begins:{openai_api_key[:8]}\")\n",
    "else:\n",
    "    print(\"OpenAI API Key not set\")"
   ]
  },
  {
   "cell_type": "code",
   "execution_count": 39,
   "id": "797fe7b0-ad43-42d2-acf0-e4f309b112f0",
   "metadata": {},
   "outputs": [],
   "source": [
    "client = OpenAI()"
   ]
  },
  {
   "cell_type": "code",
   "execution_count": 40,
   "id": "f5448ec7",
   "metadata": {},
   "outputs": [],
   "source": [
    "LLM = \"OPENAI\""
   ]
  },
  {
   "cell_type": "code",
   "execution_count": 41,
   "id": "ea61a9a0",
   "metadata": {},
   "outputs": [],
   "source": [
    "if LLM == \"OPENAI\":\n",
    "    MODEL = \"gpt-4-turbo\""
   ]
  },
  {
   "cell_type": "code",
   "execution_count": 42,
   "id": "bd497f36",
   "metadata": {},
   "outputs": [],
   "source": [
    "MODEL = \"gpt-4o-mini\""
   ]
  },
  {
   "cell_type": "code",
   "execution_count": 43,
   "id": "6f5989eb",
   "metadata": {},
   "outputs": [
    {
     "name": "stdout",
     "output_type": "stream",
     "text": [
      "MODEL: gpt-4o-mini\n"
     ]
    }
   ],
   "source": [
    "print(f\"MODEL: {MODEL}\")"
   ]
  },
  {
   "cell_type": "code",
   "execution_count": 44,
   "id": "378a0296-59a2-45c6-82eb-941344d3eeff",
   "metadata": {},
   "outputs": [],
   "source": [
    "system_message = \"\"\"You are a teachability agent. You examine a conversation listed between <conv> and </conv> and output a list of pertinet facts as well as a concise summary. The OUTPUT FORMAT *must ve* in the following JSON FORMAT:\n",
    "\n",
    "{\"summary\": <SUMMARY>, \"facts\": [<FACTS>]}\n",
    "\n",
    "<conv>Peter is a vegan and won't eat any meat. He has been a vegan for over five years when he met his current wife Angela. They have two dogs, Roxy and Petra, and they both eat meat.\n",
    "\n",
    "They both work in London but live in Brighton near Seven Dials.\n",
    "\n",
    "They travel a lot and have visited the following countries in the last year - Italy, France and Germany.\n",
    "\n",
    "They have an active YouTube channel where they post videos about their travels.\n",
    "\n",
    "They have a cat named Marmalade.\n",
    "\n",
    "\n",
    "</conv>\n",
    "\"\"\""
   ]
  },
  {
   "cell_type": "code",
   "execution_count": 45,
   "id": "f4d56a0f-2a3d-484d-9344-0efa6862aff4",
   "metadata": {},
   "outputs": [],
   "source": [
    "prompts = [\n",
    "    {\"role\": \"system\", \"content\": system_message},\n",
    "    {\"role\": \"user\", \"content\": \"\"},\n",
    "]"
   ]
  },
  {
   "cell_type": "code",
   "execution_count": 46,
   "id": "3b3879b6-9a55-4fed-a18c-1ea2edfaf397",
   "metadata": {},
   "outputs": [],
   "source": [
    "response = client.chat.completions.create(model=MODEL, messages=prompts)\n",
    "\n",
    "res = response.choices[0].message.content.replace(\"\\n\", \"\")"
   ]
  },
  {
   "cell_type": "code",
   "execution_count": 47,
   "id": "7365da99",
   "metadata": {},
   "outputs": [],
   "source": [
    "output = json.loads(res)"
   ]
  },
  {
   "cell_type": "code",
   "execution_count": 49,
   "id": "26b0b273",
   "metadata": {},
   "outputs": [
    {
     "name": "stdout",
     "output_type": "stream",
     "text": [
      "('Peter is a long-time vegan living in Brighton with his wife Angela and their '\n",
      " 'pets. They both work in London, travel frequently, and maintain a YouTube '\n",
      " 'channel about their travels.')\n",
      "['Peter is a vegan and has been so for over five years.',\n",
      " 'Peter met his wife Angela after becoming a vegan.',\n",
      " 'They have two dogs named Roxy and Petra, who eat meat.',\n",
      " 'Peter and Angela live in Brighton near Seven Dials.',\n",
      " 'They both work in London.',\n",
      " 'In the last year, they have visited Italy, France, and Germany.',\n",
      " 'They have an active YouTube channel focusing on their travels.',\n",
      " 'They also have a cat named Marmalade.']\n"
     ]
    }
   ],
   "source": [
    "pprint(output[\"summary\"])\n",
    "pprint(output[\"facts\"])"
   ]
  }
 ],
 "metadata": {
  "kernelspec": {
   "display_name": "venv",
   "language": "python",
   "name": "python3"
  },
  "language_info": {
   "codemirror_mode": {
    "name": "ipython",
    "version": 3
   },
   "file_extension": ".py",
   "mimetype": "text/x-python",
   "name": "python",
   "nbconvert_exporter": "python",
   "pygments_lexer": "ipython3",
   "version": "3.12.1"
  }
 },
 "nbformat": 4,
 "nbformat_minor": 5
}
