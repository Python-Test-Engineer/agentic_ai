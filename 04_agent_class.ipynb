{
 "cells": [
  {
   "cell_type": "code",
   "execution_count": 1,
   "id": "de23bb9e-37c5-4377-9a82-d7b6c648eeb6",
   "metadata": {},
   "outputs": [],
   "source": [
    "# imports\n",
    "\n",
    "import os\n",
    "import json\n",
    "from dotenv import load_dotenv\n",
    "from openai import OpenAI\n",
    "import anthropic\n",
    "from IPython.display import Markdown, display, update_display\n",
    "import requests"
   ]
  },
  {
   "cell_type": "code",
   "execution_count": 2,
   "id": "1179b4c5-cd1f-4131-a876-4c9f3f38d2ba",
   "metadata": {},
   "outputs": [
    {
     "name": "stdout",
     "output_type": "stream",
     "text": [
      "OpenAI API Key exists and begins sk-proj-\n",
      "Anthropic API Key not set\n"
     ]
    }
   ],
   "source": [
    "# Load environment variables in a file called .env\n",
    "# Print the key prefixes to help with any debugging\n",
    "\n",
    "load_dotenv()\n",
    "openai_api_key = os.getenv(\"OPENAI_API_KEY\")\n",
    "anthropic_api_key = os.getenv(\"ANTHROPIC_API_KEY\")\n",
    "# google_api_key = os.getenv('GOOGLE_API_KEY')\n",
    "\n",
    "if openai_api_key:\n",
    "    print(f\"OpenAI API Key exists and begins {openai_api_key[:8]}\")\n",
    "else:\n",
    "    print(\"OpenAI API Key not set\")\n",
    "\n",
    "if anthropic_api_key:\n",
    "    print(f\"Anthropic API Key exists and begins {anthropic_api_key[:7]}\")\n",
    "else:\n",
    "    print(\"Anthropic API Key not set\")"
   ]
  },
  {
   "cell_type": "code",
   "execution_count": 3,
   "id": "797fe7b0-ad43-42d2-acf0-e4f309b112f0",
   "metadata": {},
   "outputs": [],
   "source": [
    "openai = OpenAI()\n",
    "claude = anthropic.Anthropic()"
   ]
  },
  {
   "cell_type": "code",
   "execution_count": 4,
   "id": "378a0296-59a2-45c6-82eb-941344d3eeff",
   "metadata": {},
   "outputs": [],
   "source": [
    "# original propmt\n",
    "system_message = \"\"\"\n",
    "You are an assistant that is very good at determining what tool to use to solve queries.\n",
    "\"\"\"\n",
    "\n",
    "ai_programming = \"\"\"\n",
    "\n",
    "TOOLS\n",
    "\n",
    "You have two tools:\n",
    "\n",
    "1. A calculator tool that can perform basic arithmetic operations, such as addition, subtraction, multiplication, and division. If this tool is used then respond as detailed in the OUTPUT section with \"next\": \"do_calculation\"\n",
    "2. A jokes tool that can provide a light-hearted joke for the audience reqested. If this tool is used then respond as detailed in <OUTPUT> with \"next\": \"do_joke\" and \"audience\": \"audience requested\"\n",
    "\n",
    "\n",
    "OUTPUT\n",
    "\n",
    "For a user query, determine the best tool. If none of the tools are appropriate, respond with \"None\".\n",
    "\n",
    "EXAMPLES\n",
    "\n",
    "    First Example\n",
    "    \n",
    "    <OUTPUT>\n",
    "    {\"tool\": \"calculator\", \"next\": \"do_calculation\", \"arguments\": {\"num1\": 5, \"num2\": 5, \"operation\": \"addition\"}} \n",
    "    <OUTPUT>\n",
    "\n",
    "    Second Example\n",
    "\n",
    "    <OUTPUT>\n",
    "    {\"tool\": \"joke\", \"next\": \"do_joke\", \"audience\": \"Pythonistas\" }} \n",
    "    <OUTPUT>\n",
    "    \n",
    "Thank you for your help.\n",
    "\"\"\"\n",
    "\n",
    "system_message += ai_programming"
   ]
  },
  {
   "cell_type": "code",
   "execution_count": 5,
   "id": "9fa6d2ce",
   "metadata": {},
   "outputs": [],
   "source": [
    "user_prompt = \"What is 5 times 9?\"\n",
    "# user_prompt = \"Tell me a joke when I am doing stand up at a Builders Conference\"\n",
    "\n",
    "# user_prompt = \"Tell me a joke when I am doing stand up at a Builders Conference\"\n",
    "\n",
    "prompts = [\n",
    "    {\"role\": \"system\", \"content\": system_message},\n",
    "    {\"role\": \"user\", \"content\": user_prompt},\n",
    "]"
   ]
  },
  {
   "cell_type": "code",
   "execution_count": 6,
   "id": "7c634a5e",
   "metadata": {},
   "outputs": [],
   "source": [
    "class Agent:\n",
    "    def __init__(self, model=\"gpt-3.5-turbo\", prompts=prompts):\n",
    "        self.model = model\n",
    "        self.prompt = prompts\n",
    "\n",
    "    def get_tool(self):\n",
    "        response = openai.chat.completions.create(\n",
    "            model=self.model, messages=self.prompt\n",
    "        )\n",
    "        output = response.choices[0].message.content.replace(\"\\n\", \"\")\n",
    "        json_output = output.replace(\"<OUTPUT>\", \"\").strip()\n",
    "        json_output = json.loads(json_output)\n",
    "        # print(json_output)\n",
    "        return json_output\n",
    "\n",
    "    def do_calculation(self, num1, num2, operation):\n",
    "        if operation == \"addition\":\n",
    "            return num1 + num2\n",
    "        elif operation == \"subtraction\":\n",
    "            return num1 - num2\n",
    "        elif operation == \"multiplication\":\n",
    "            return num1 * num2\n",
    "        elif operation == \"division\":\n",
    "            return num1 / num2\n",
    "\n",
    "    def do_joke(self, audience):\n",
    "        return f\"Joke for {audience}\"\n",
    "\n",
    "    def give_answer(self):\n",
    "        output = self.get_tool()\n",
    "        if output[\"next\"] == \"do_calculation\":\n",
    "            num1 = output[\"arguments\"][\"num1\"]\n",
    "            num2 = output[\"arguments\"][\"num2\"]\n",
    "            operation = output[\"arguments\"][\"operation\"]\n",
    "            answer = self.do_calculation(num1, num2, operation)\n",
    "            return answer\n",
    "        elif output[\"next\"] == \"do_joke\":\n",
    "            audience = output[\"audience\"]\n",
    "            answer = self.do_joke(audience)\n",
    "            return answer"
   ]
  },
  {
   "cell_type": "code",
   "execution_count": 7,
   "id": "7ba97d11",
   "metadata": {},
   "outputs": [
    {
     "name": "stdout",
     "output_type": "stream",
     "text": [
      "{'tool': 'calculator', 'next': 'do_calculation', 'arguments': {'num1': 5, 'num2': 9, 'operation': 'multiplication'}}\n"
     ]
    }
   ],
   "source": [
    "agent = Agent()\n",
    "output = agent.get_tool()\n",
    "print(output)"
   ]
  },
  {
   "cell_type": "code",
   "execution_count": 8,
   "id": "f130112e",
   "metadata": {},
   "outputs": [
    {
     "name": "stdout",
     "output_type": "stream",
     "text": [
      "45\n"
     ]
    }
   ],
   "source": [
    "answer = agent.give_answer()\n",
    "print(answer)"
   ]
  }
 ],
 "metadata": {
  "kernelspec": {
   "display_name": "venv",
   "language": "python",
   "name": "python3"
  },
  "language_info": {
   "codemirror_mode": {
    "name": "ipython",
    "version": 3
   },
   "file_extension": ".py",
   "mimetype": "text/x-python",
   "name": "python",
   "nbconvert_exporter": "python",
   "pygments_lexer": "ipython3",
   "version": "3.12.1"
  }
 },
 "nbformat": 4,
 "nbformat_minor": 5
}
