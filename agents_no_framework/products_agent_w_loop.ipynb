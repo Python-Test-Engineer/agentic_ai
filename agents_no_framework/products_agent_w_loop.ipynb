{
 "cells": [
  {
   "cell_type": "code",
   "execution_count": 1,
   "metadata": {},
   "outputs": [
    {
     "data": {
      "text/plain": [
       "True"
      ]
     },
     "execution_count": 1,
     "metadata": {},
     "output_type": "execute_result"
    }
   ],
   "source": [
    "from dotenv import load_dotenv\n",
    "import os\n",
    "from groq import Groq\n",
    "\n",
    "\n",
    "load_dotenv()"
   ]
  },
  {
   "cell_type": "code",
   "execution_count": 2,
   "metadata": {},
   "outputs": [
    {
     "name": "stdout",
     "output_type": "stream",
     "text": [
      "An AI agent is a software program that is designed to perform a specific task or set of tasks, and is capable of making decisions and taking actions based on its programming and the data it receives. AI agents can be thought of as autonomous entities that interact with their environment, other agents, and humans to achieve their goals.\n",
      "\n",
      "There are several key characteristics that define an AI agent:\n",
      "\n",
      "1. **Autonomy**: AI agents can operate independently, making decisions and taking actions without direct human intervention.\n",
      "2. **Perception**: AI agents can perceive their environment through sensors, such as cameras, microphones, or other devices.\n",
      "3. **Action**: AI agents can take actions in their environment, such as moving a robot arm or sending a message.\n",
      "4. **Reasoning**: AI agents can reason about their environment and make decisions based on their programming and the data they receive.\n",
      "5. **Learning**: AI agents can learn from their experiences and adapt to new situations.\n",
      "\n",
      "There are many types of AI agents, including:\n",
      "\n",
      "1. **Rule-based agents**: These agents use pre-defined rules to make decisions and take actions.\n",
      "2. **Machine learning agents**: These agents use machine learning algorithms to learn from data and make decisions.\n",
      "3. **Hybrid agents**: These agents combine rule-based and machine learning approaches to make decisions.\n",
      "4. **Multi-agent systems**: These agents interact with other agents and humans to achieve common goals.\n",
      "\n",
      "AI agents are used in a wide range of applications, including:\n",
      "\n",
      "1. **Robotics**: AI agents can control robots to perform tasks such as assembly, welding, and navigation.\n",
      "2. **Customer service**: AI agents can interact with customers through chatbots or voice assistants to provide support and answer questions.\n",
      "3. **Recommendation systems**: AI agents can analyze user behavior and provide personalized recommendations for products or services.\n",
      "4. **Autonomous vehicles**: AI agents can control self-driving cars and trucks to navigate roads and avoid obstacles.\n",
      "5. **Healthcare**: AI agents can analyze medical data and provide diagnoses and treatment recommendations.\n",
      "\n",
      "Overall, AI agents have the potential to revolutionize many industries and aspects of our lives by providing autonomous, intelligent, and adaptive decision-making capabilities.\n"
     ]
    }
   ],
   "source": [
    "client = Groq(api_key=os.environ.get(\"GROQ_API_KEY\"))\n",
    "\n",
    "chat_completion = client.chat.completions.create(\n",
    "    messages=[{\"role\": \"user\", \"content\": \"What is an AI Agent?\"}],\n",
    "    model=\"llama3-8b-8192\",\n",
    "    temperature=0,\n",
    ")\n",
    "\n",
    "print(chat_completion.choices[0].message.content)"
   ]
  },
  {
   "cell_type": "code",
   "execution_count": 3,
   "metadata": {},
   "outputs": [],
   "source": [
    "class Agent:\n",
    "    def __init__(self, client: Groq, system: str = \"\") -> None:\n",
    "        self.client = client\n",
    "        self.system = system\n",
    "        self.messages: list = []\n",
    "        if self.system:\n",
    "            self.messages.append({\"role\": \"system\", \"content\": system})\n",
    "\n",
    "    def __call__(self, message=\"\"):\n",
    "        if message:\n",
    "            self.messages.append({\"role\": \"user\", \"content\": message})\n",
    "            result = self.execute()\n",
    "            self.messages.append({\"role\": \"assistant\", \"content\": result})\n",
    "            return result\n",
    "        else:\n",
    "            print(\"NO MESSAGE\")\n",
    "\n",
    "    def execute(self):\n",
    "        completion = client.chat.completions.create(\n",
    "            model=\"llama3-70b-8192\", messages=self.messages\n",
    "        )\n",
    "        return completion.choices[0].message.content"
   ]
  },
  {
   "cell_type": "code",
   "execution_count": 4,
   "metadata": {},
   "outputs": [],
   "source": [
    "system_prompt = \"\"\"\n",
    "You run in a loop of THOUGHT, ACTION, OBSERVATION.\n",
    "When you have a THOUGHT you return the THOUGHT and ACTION\n",
    "At the end of the loop you output an ANSWER\n",
    "Use THOUGHT to describe your THOUGHTS about the question you have been asked.\n",
    "Use ACTION to run one of the ACTIONS available to you - then return PAUSE.\n",
    "OBSERVATION will be the result of running those ACTIONS.\n",
    "\n",
    "Your available ACTIONS are:\n",
    "\n",
    "# calculate_total:\n",
    "if amount = 200\n",
    "then calculate_total(amount)\n",
    "\n",
    "This returns amount * 1.2\n",
    "\n",
    "Runs the calculate_total function and returns a JSON FORMAT output as follows:\n",
    "{\"result\": 240, \"fn\": \"calculate_total\", \"next\": \"PAUSE\"}\n",
    "\n",
    "# get_product_price:\n",
    "\n",
    "This uses the get_product_price function and passes in the value of the product\n",
    "e.g. get_product_price('bike')\n",
    "\n",
    "This uses the get_product_price with a product = 'bike', finds the price of the bike and then returns a JSON FORMAT output as follows:\n",
    "{\"result\": 200, \"fn\": \"get_product_price\", \"next\": \"PAUSE\"}\n",
    "\n",
    "Example session:\n",
    "\n",
    "Question: What is total cost of a bike including VAT?\n",
    "THOUGHT: I need to find the cost of a bike|ACTION|get_product_price|bike\n",
    "\n",
    "You will be called again with this:\n",
    "\n",
    "OBSERVATION|200\n",
    "\n",
    "THOUGHT: I need to calculate the total including the VAT|ACTION|calculate_total|200\n",
    "\n",
    "You will be called again with this: \n",
    "\n",
    "OBSERVATION|240\n",
    "\n",
    "If you have the ANSWER, output it as the ANSWER.\n",
    "\n",
    "ANSWER|The price of the bike including VAT is 240\n",
    "\n",
    "Now it's your turn:\n",
    "\"\"\".strip()\n",
    "\n",
    "\n",
    "def calculate_total(amount):\n",
    "    amount = int(amount)\n",
    "    return int(amount * 1.2)\n",
    "\n",
    "\n",
    "def get_product_price(product):\n",
    "    if product == \"bike\":\n",
    "        return 400\n",
    "    if product == \"tv\":\n",
    "        return 500\n",
    "    if product == \"laptop\":\n",
    "        return 600\n",
    "\n",
    "    return None"
   ]
  },
  {
   "cell_type": "code",
   "execution_count": 5,
   "metadata": {},
   "outputs": [
    {
     "name": "stdout",
     "output_type": "stream",
     "text": [
      "['THOUGHT: I need to find the cost of a tv', 'ACTION', 'get_product_price', 'tv']\n",
      "OBSERVATION: 500\n",
      "['THOUGHT: I need to calculate the total including the VAT', 'ACTION', 'calculate_total', '500']\n",
      "OBSERVATION: 600\n",
      "Answer found:\n",
      "\tANSWER|The price of the tv including VAT is 600\n"
     ]
    }
   ],
   "source": [
    "def loop(max_iterations=10, query: str = \"\"):\n",
    "\n",
    "    agent = Agent(client=client, system=system_prompt)\n",
    "\n",
    "    tools = [\"calculate_total\", \"get_product_price\"]\n",
    "\n",
    "    next_prompt = query\n",
    "\n",
    "    i = 0\n",
    "\n",
    "    while i < max_iterations:\n",
    "\n",
    "        i += 1\n",
    "\n",
    "        result = agent(next_prompt)\n",
    "\n",
    "        if \"ACTION\" in result:\n",
    "            next = result.split(\"|\")\n",
    "            print(next)\n",
    "            next_function = next[2].strip()\n",
    "            next_arg = str(next[3]).strip()\n",
    "            # print(next_function, next_arg)\n",
    "\n",
    "            if next_function in tools:\n",
    "                result_tool = eval(f\"{next_function}('{next_arg}')\")\n",
    "                next_prompt = f\"OBSERVATION: {result_tool}\"\n",
    "                print(next_prompt)\n",
    "            else:\n",
    "                next_prompt = \"OBSERVATION: Tool not found\"\n",
    "\n",
    "            # print(next_prompt)\n",
    "            continue\n",
    "\n",
    "        if \"ANSWER\" in result:\n",
    "            print(f\"Answer found:\\n\\t{result}\")\n",
    "            break\n",
    "\n",
    "\n",
    "loop(query=\"What is cost of a tv including VAT?\")"
   ]
  }
 ],
 "metadata": {
  "kernelspec": {
   "display_name": "venv",
   "language": "python",
   "name": "python3"
  },
  "language_info": {
   "codemirror_mode": {
    "name": "ipython",
    "version": 3
   },
   "file_extension": ".py",
   "mimetype": "text/x-python",
   "name": "python",
   "nbconvert_exporter": "python",
   "pygments_lexer": "ipython3",
   "version": "3.12.1"
  }
 },
 "nbformat": 4,
 "nbformat_minor": 2
}
