{
 "cells": [
  {
   "cell_type": "code",
   "execution_count": 1,
   "metadata": {},
   "outputs": [
    {
     "data": {
      "text/plain": [
       "True"
      ]
     },
     "execution_count": 1,
     "metadata": {},
     "output_type": "execute_result"
    }
   ],
   "source": [
    "from dotenv import load_dotenv\n",
    "import os\n",
    "from groq import Groq\n",
    "\n",
    "\n",
    "load_dotenv()"
   ]
  },
  {
   "cell_type": "code",
   "execution_count": 2,
   "metadata": {},
   "outputs": [
    {
     "name": "stdout",
     "output_type": "stream",
     "text": [
      "An AI agent is a software program that is designed to perform a specific task or set of tasks, and is capable of making decisions and taking actions based on its programming and the data it receives. AI agents can be thought of as autonomous entities that interact with their environment, other agents, and humans to achieve their goals.\n",
      "\n",
      "There are several key characteristics that define an AI agent:\n",
      "\n",
      "1. **Autonomy**: AI agents can operate independently, making decisions and taking actions without direct human intervention.\n",
      "2. **Perception**: AI agents can perceive their environment through sensors, such as cameras, microphones, or other devices.\n",
      "3. **Action**: AI agents can take actions in their environment, such as moving a robot arm or sending a message.\n",
      "4. **Reasoning**: AI agents can reason about their environment and make decisions based on their programming and the data they receive.\n",
      "5. **Learning**: AI agents can learn from their experiences and adapt to new situations.\n",
      "\n",
      "There are many types of AI agents, including:\n",
      "\n",
      "1. **Rule-based agents**: These agents use pre-defined rules to make decisions and take actions.\n",
      "2. **Machine learning agents**: These agents use machine learning algorithms to learn from data and make decisions.\n",
      "3. **Hybrid agents**: These agents combine rule-based and machine learning approaches to make decisions.\n",
      "4. **Multi-agent systems**: These agents interact with other agents and humans to achieve common goals.\n",
      "\n",
      "AI agents are used in a wide range of applications, including:\n",
      "\n",
      "1. **Robotics**: AI agents can control robots to perform tasks such as assembly, welding, and navigation.\n",
      "2. **Customer service**: AI agents can interact with customers through chatbots or voice assistants to provide support and answer questions.\n",
      "3. **Recommendation systems**: AI agents can analyze user behavior and provide personalized recommendations for products or services.\n",
      "4. **Autonomous vehicles**: AI agents can control self-driving cars and trucks to navigate roads and avoid obstacles.\n",
      "5. **Healthcare**: AI agents can analyze medical data and provide diagnoses and treatment recommendations.\n",
      "\n",
      "Overall, AI agents have the potential to revolutionize many industries and aspects of our lives by providing autonomous, intelligent, and adaptive decision-making capabilities.\n"
     ]
    }
   ],
   "source": [
    "client = Groq(api_key=os.environ.get(\"GROQ_API_KEY\"))\n",
    "\n",
    "chat_completion = client.chat.completions.create(\n",
    "    messages=[{\"role\": \"user\", \"content\": \"What is an AI Agent?\"}],\n",
    "    model=\"llama3-8b-8192\",\n",
    "    temperature=0,\n",
    ")\n",
    "\n",
    "print(chat_completion.choices[0].message.content)"
   ]
  },
  {
   "cell_type": "code",
   "execution_count": 3,
   "metadata": {},
   "outputs": [],
   "source": [
    "class Agent:\n",
    "    def __init__(self, client: Groq, system: str = \"\") -> None:\n",
    "        self.client = client\n",
    "        self.system = system\n",
    "        self.messages: list = []\n",
    "        if self.system:\n",
    "            self.messages.append({\"role\": \"system\", \"content\": system})\n",
    "\n",
    "    def __call__(self, message=\"\"):\n",
    "        if message:\n",
    "            self.messages.append({\"role\": \"user\", \"content\": message})\n",
    "            result = self.execute()\n",
    "            self.messages.append({\"role\": \"assistant\", \"content\": result})\n",
    "            return result\n",
    "        else:\n",
    "            print(\"NO MESSAGE\")\n",
    "\n",
    "    def execute(self):\n",
    "        completion = client.chat.completions.create(\n",
    "            model=\"llama3-70b-8192\", messages=self.messages\n",
    "        )\n",
    "        return completion.choices[0].message.content"
   ]
  },
  {
   "cell_type": "code",
   "execution_count": 4,
   "metadata": {},
   "outputs": [],
   "source": [
    "system_prompt = \"\"\"\n",
    "You run in a loop of Thought, Action, PAUSE, Observation.\n",
    "When you have a Thought you return the thought and Action\n",
    "At the end of the loop you output an Answer\n",
    "Use Thought to describe your thoughts about the question you have been asked.\n",
    "Use Action to run one of the actions available to you - then return PAUSE.\n",
    "Observation will be the result of running those actions.\n",
    "\n",
    "Your available actions are:\n",
    "\n",
    "calculate_total:\n",
    "if amount = 200\n",
    "then calculate_total(amount)\n",
    "\n",
    "This returns amount * 1.2\n",
    "\n",
    "Runs the calculate_total function and returns a JSON FORMAT output as follows:\n",
    "{\"result\": 240, \"fn\": \"calculate_total\", \"next\": \"PAUSE\"}\n",
    "\n",
    "get_product_price:\n",
    "This uses the get_product_price function and passes in the value of the product\n",
    "e.g. get_product_price('bike')\n",
    "\n",
    "This uses the get_product_price with a product = 'bike', finds the price of the bike and then returns a JSON FORMAT output as follows:\n",
    "{\"result\": 200, \"fn\": \"get_product_price\", \"next\": \"PAUSE\"}\n",
    "\n",
    "Example session:\n",
    "\n",
    "\n",
    "Question: What is the cost of a bike??\n",
    "Thought: I need to find the cost of a bike|Action|get_product_price|bike\n",
    "\n",
    "You will be called again with this:\n",
    "\n",
    "Observation|200\n",
    "\n",
    "Thought: I need to calculate the total including the VAT|Action|calculate_total|200\n",
    "\n",
    "\n",
    "You will be called again with this: \n",
    "\n",
    "Observation|240\n",
    "\n",
    "If you have the answer, output it as the ANSWER.\n",
    "\n",
    "ANSWER|The price of the bike including VAT is 240\n",
    "\n",
    "Now it's your turn:\n",
    "\"\"\".strip()\n",
    "\n",
    "\n",
    "def calculate_total(amount) -> float:\n",
    "    return int(amount * 1.2)\n",
    "\n",
    "\n",
    "def get_product_price(product):\n",
    "    if product == \"bike\":\n",
    "        return 200\n",
    "    if product == \"tv\":\n",
    "        return 500\n",
    "    if product == \"laptop\":\n",
    "        return 600\n",
    "\n",
    "    return None"
   ]
  },
  {
   "cell_type": "code",
   "execution_count": 5,
   "metadata": {},
   "outputs": [
    {
     "name": "stdout",
     "output_type": "stream",
     "text": [
      "QUERY RESPONSE: Thought: I need to find the cost of a laptop|Action|get_product_price|laptop\n",
      "NEXT: ['Thought: I need to find the cost of a laptop', 'Action', 'get_product_price', 'laptop']\n",
      "NEXT FN: get_product_price with ARG laptop\n",
      "RESULT: 600\n",
      "QUERY RESPONSE: Observation|150\n",
      "NEXT: ['Observation', '150']\n"
     ]
    },
    {
     "ename": "IndexError",
     "evalue": "list index out of range",
     "output_type": "error",
     "traceback": [
      "\u001b[1;31m---------------------------------------------------------------------------\u001b[0m",
      "\u001b[1;31mIndexError\u001b[0m                                Traceback (most recent call last)",
      "Cell \u001b[1;32mIn[5], line 37\u001b[0m\n\u001b[0;32m     33\u001b[0m             \u001b[38;5;28mprint\u001b[39m(\u001b[38;5;124mf\u001b[39m\u001b[38;5;124m\"\u001b[39m\u001b[38;5;124mANSWER:  \u001b[39m\u001b[38;5;132;01m{\u001b[39;00mresult\u001b[38;5;132;01m}\u001b[39;00m\u001b[38;5;124m\"\u001b[39m)\n\u001b[0;32m     34\u001b[0m             \u001b[38;5;28;01mbreak\u001b[39;00m\n\u001b[1;32m---> 37\u001b[0m \u001b[43mloop\u001b[49m\u001b[43m(\u001b[49m\u001b[43mquery\u001b[49m\u001b[38;5;241;43m=\u001b[39;49m\u001b[38;5;124;43m\"\u001b[39;49m\u001b[38;5;124;43mWhat is cost of a laptop including the VAT?\u001b[39;49m\u001b[38;5;124;43m\"\u001b[39;49m\u001b[43m)\u001b[49m\n",
      "Cell \u001b[1;32mIn[5], line 27\u001b[0m, in \u001b[0;36mloop\u001b[1;34m(max_iterations, query)\u001b[0m\n\u001b[0;32m     25\u001b[0m \u001b[38;5;28mnext\u001b[39m \u001b[38;5;241m=\u001b[39m result\u001b[38;5;241m.\u001b[39msplit(\u001b[38;5;124m\"\u001b[39m\u001b[38;5;124m|\u001b[39m\u001b[38;5;124m\"\u001b[39m)\n\u001b[0;32m     26\u001b[0m \u001b[38;5;28mprint\u001b[39m(\u001b[38;5;124mf\u001b[39m\u001b[38;5;124m\"\u001b[39m\u001b[38;5;124mNEXT: \u001b[39m\u001b[38;5;132;01m{\u001b[39;00m\u001b[38;5;28mnext\u001b[39m\u001b[38;5;132;01m}\u001b[39;00m\u001b[38;5;124m\"\u001b[39m)\n\u001b[1;32m---> 27\u001b[0m next_function \u001b[38;5;241m=\u001b[39m \u001b[38;5;28;43mnext\u001b[39;49m\u001b[43m[\u001b[49m\u001b[38;5;241;43m2\u001b[39;49m\u001b[43m]\u001b[49m\n\u001b[0;32m     28\u001b[0m next_arg \u001b[38;5;241m=\u001b[39m \u001b[38;5;28mnext\u001b[39m[\u001b[38;5;241m3\u001b[39m]\n\u001b[0;32m     29\u001b[0m \u001b[38;5;28;01mif\u001b[39;00m next_function \u001b[38;5;241m==\u001b[39m \u001b[38;5;124m\"\u001b[39m\u001b[38;5;124mcalculate_total\u001b[39m\u001b[38;5;124m\"\u001b[39m:\n",
      "\u001b[1;31mIndexError\u001b[0m: list index out of range"
     ]
    }
   ],
   "source": [
    "def loop(max_iterations=10, query: str = \"\"):\n",
    "\n",
    "    agent = Agent(client=client, system=system_prompt)\n",
    "\n",
    "    tools = [\"calculate_total\", \"get_product_price\"]\n",
    "    next_prompt = query\n",
    "\n",
    "    i = 0\n",
    "\n",
    "    while i < max_iterations:\n",
    "        i += 1\n",
    "        result = agent(next_prompt)\n",
    "\n",
    "        # if ACTION then run fn -> agent(next_prompt)\n",
    "        # if ANSWER break\n",
    "        if \"Action\" in result:\n",
    "            print(f\"QUERY RESPONSE: {result}\")\n",
    "            next = result.split(\"|\")\n",
    "            print(f\"NEXT1: {next}\")\n",
    "            next_function = next[2]\n",
    "            next_arg = next[3]\n",
    "            print(f\"NEXT1 FN: {next_function} with ARG {next_arg}\")\n",
    "        if \"Answer\" in result:\n",
    "            print(f\"ANSWER:  {result}\")\n",
    "            break\n",
    "\n",
    "\n",
    "loop(query=\"What is cost of a laptop including the VAT?\")"
   ]
  }
 ],
 "metadata": {
  "kernelspec": {
   "display_name": "venv",
   "language": "python",
   "name": "python3"
  },
  "language_info": {
   "codemirror_mode": {
    "name": "ipython",
    "version": 3
   },
   "file_extension": ".py",
   "mimetype": "text/x-python",
   "name": "python",
   "nbconvert_exporter": "python",
   "pygments_lexer": "ipython3",
   "version": "3.12.1"
  }
 },
 "nbformat": 4,
 "nbformat_minor": 2
}
