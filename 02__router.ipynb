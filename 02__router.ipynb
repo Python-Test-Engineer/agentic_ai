{
 "cells": [
  {
   "cell_type": "code",
   "execution_count": 395,
   "id": "de23bb9e-37c5-4377-9a82-d7b6c648eeb6",
   "metadata": {},
   "outputs": [],
   "source": [
    "# imports\n",
    "\n",
    "import os\n",
    "import json\n",
    "from random import randint\n",
    "from dotenv import load_dotenv\n",
    "\n",
    "from rich.console import Console\n",
    "from openai import OpenAI\n",
    "import anthropic\n",
    "import requests"
   ]
  },
  {
   "cell_type": "code",
   "execution_count": 396,
   "id": "d64403d9",
   "metadata": {},
   "outputs": [],
   "source": [
    "console = Console()"
   ]
  },
  {
   "cell_type": "code",
   "execution_count": 397,
   "id": "1179b4c5-cd1f-4131-a876-4c9f3f38d2ba",
   "metadata": {},
   "outputs": [
    {
     "name": "stdout",
     "output_type": "stream",
     "text": [
      "OpenAI API Key exists and begins sk-proj-\n",
      "Anthropic API Key exists and begins sk-ant\n"
     ]
    }
   ],
   "source": [
    "# Load environment variables in a file called .env\n",
    "# Print the key prefixes to help with any debugging\n",
    "\n",
    "load_dotenv()\n",
    "openai_api_key = os.getenv(\"OPENAI_API_KEY\")\n",
    "anthropic_api_key = os.getenv(\"ANTHROPIC_API_KEY\")\n",
    "# google_api_key = os.getenv('GOOGLE_API_KEY')\n",
    "\n",
    "if openai_api_key:\n",
    "    print(f\"OpenAI API Key exists and begins {openai_api_key[:8]}\")\n",
    "else:\n",
    "    print(\"OpenAI API Key not set\")\n",
    "\n",
    "if anthropic_api_key:\n",
    "    print(f\"Anthropic API Key exists and begins {anthropic_api_key[:7]}\")\n",
    "else:\n",
    "    print(\"Anthropic API Key not set\")"
   ]
  },
  {
   "cell_type": "code",
   "execution_count": 398,
   "id": "797fe7b0-ad43-42d2-acf0-e4f309b112f0",
   "metadata": {},
   "outputs": [],
   "source": [
    "openai = OpenAI()\n",
    "claude = anthropic.Anthropic()"
   ]
  },
  {
   "cell_type": "code",
   "execution_count": 399,
   "id": "378a0296-59a2-45c6-82eb-941344d3eeff",
   "metadata": {},
   "outputs": [],
   "source": [
    "# original propmt\n",
    "system_message = \"\"\"\n",
    "You are an experienced and critical joke assessor.\n",
    "\n",
    "\n",
    "\n",
    "You give joke's a rating between 0 and 1 with 0.95 and above being extremely funny, 0.9 to 0.95 being very funny, 0.8 to 0.8 funny and anything below 0.8 is not that funny.\n",
    "\n",
    "Only 1 in 3 jokes is ever above 0.92\n",
    "\n",
    "A joke must be above 0.92 to be worthy of publishing \n",
    "\n",
    "If so, include \"next\": \"PUBLISH\" otherwise \"next\": \"HUMAN\" in the JSON formatted output shown below:\n",
    "\n",
    "Here is an example of a joke worth of publishing:\n",
    "Supply the response in the following JSON format:\n",
    "{\"setup\": \"The setup of the joke\",\n",
    "\"punchline\": \"The punchline of the joke\",   \n",
    "\"rating\": \"0.92\",\n",
    "\"next\": \"PUBLISH\"\n",
    "}\n",
    "\n",
    "Here is an example of a joke that should not be PUBLISH as it is unsuitable for adults even if it has a score above 8.5 but have a HUMAN make a joke:\n",
    "Supply the response in the following JSON format:\n",
    "{\"setup\": \"The setup of the joke\",\n",
    "\"punchline\": \"The punchline of the joke\",   \n",
    "\"rating\": \"0.9\",\n",
    "\"next\": \"HUMAN\"\n",
    "}\n",
    "\n",
    "\n",
    "Remove all back ticks and other unnecessary characters and just print the JSON format and nothing else.\n",
    "\n",
    "Please ensure jokes are not repeated on retries\n",
    "\n",
    "Thank you.\n",
    "    \n",
    "\n",
    "\"\"\""
   ]
  },
  {
   "cell_type": "code",
   "execution_count": 400,
   "id": "5f4e9bd8",
   "metadata": {},
   "outputs": [
    {
     "name": "stdout",
     "output_type": "stream",
     "text": [
      "Why did the man run around his bed? - Because he was trying to catch up on his sleep!\n"
     ]
    }
   ],
   "source": [
    "joke_json = requests.get(\"https://official-joke-api.appspot.com/random_joke\").json()\n",
    "\n",
    "joke = f\"{joke_json[\"setup\"]} - {joke_json[\"punchline\"]}\"\n",
    "print(joke)"
   ]
  },
  {
   "cell_type": "code",
   "execution_count": 401,
   "id": "9fa6d2ce",
   "metadata": {},
   "outputs": [
    {
     "data": {
      "text/html": [
       "<pre style=\"white-space:pre;overflow-x:auto;line-height:normal;font-family:Menlo,'DejaVu Sans Mono',consolas,'Courier New',monospace\"><span style=\"font-weight: bold\">{</span>\n",
       "<span style=\"color: #008000; text-decoration-color: #008000\">\"setup\"</span>: <span style=\"color: #008000; text-decoration-color: #008000\">\"Why did the man run around his bed?\"</span>,\n",
       "<span style=\"color: #008000; text-decoration-color: #008000\">\"punchline\"</span>: <span style=\"color: #008000; text-decoration-color: #008000\">\"Because he was trying to catch up on his sleep!\"</span>,\n",
       "<span style=\"color: #008000; text-decoration-color: #008000\">\"rating\"</span>: <span style=\"color: #008000; text-decoration-color: #008000\">\"0.85\"</span>,\n",
       "<span style=\"color: #008000; text-decoration-color: #008000\">\"next\"</span>: <span style=\"color: #008000; text-decoration-color: #008000\">\"HUMAN\"</span>\n",
       "<span style=\"font-weight: bold\">}</span>\n",
       "</pre>\n"
      ],
      "text/plain": [
       "\u001b[1m{\u001b[0m\n",
       "\u001b[32m\"setup\"\u001b[0m: \u001b[32m\"Why did the man run around his bed?\"\u001b[0m,\n",
       "\u001b[32m\"punchline\"\u001b[0m: \u001b[32m\"Because he was trying to catch up on his sleep!\"\u001b[0m,\n",
       "\u001b[32m\"rating\"\u001b[0m: \u001b[32m\"0.85\"\u001b[0m,\n",
       "\u001b[32m\"next\"\u001b[0m: \u001b[32m\"HUMAN\"\u001b[0m\n",
       "\u001b[1m}\u001b[0m\n"
      ]
     },
     "metadata": {},
     "output_type": "display_data"
    }
   ],
   "source": [
    "user_prompt = joke\n",
    "\n",
    "\n",
    "prompts = [\n",
    "    {\"role\": \"system\", \"content\": system_message},\n",
    "    {\"role\": \"user\", \"content\": user_prompt},\n",
    "]\n",
    "\n",
    "response = openai.chat.completions.create(model=\"gpt-3.5-turbo\", messages=prompts)\n",
    "\n",
    "console.print(response.choices[0].message.content)\n",
    "\n",
    "output = response.choices[0].message.content.replace(\"\\n\", \"\")"
   ]
  },
  {
   "cell_type": "code",
   "execution_count": 402,
   "id": "7fe3437e",
   "metadata": {},
   "outputs": [
    {
     "name": "stdout",
     "output_type": "stream",
     "text": [
      "41\n",
      "<class 'dict'>\n"
     ]
    },
    {
     "data": {
      "text/html": [
       "<pre style=\"white-space:pre;overflow-x:auto;line-height:normal;font-family:Menlo,'DejaVu Sans Mono',consolas,'Courier New',monospace\"><span style=\"font-weight: bold\">{</span>\n",
       "    <span style=\"color: #008000; text-decoration-color: #008000\">'setup'</span>: <span style=\"color: #008000; text-decoration-color: #008000\">'Why did the man run around his bed?'</span>,\n",
       "    <span style=\"color: #008000; text-decoration-color: #008000\">'punchline'</span>: <span style=\"color: #008000; text-decoration-color: #008000\">'Because he was trying to catch up on his sleep!'</span>,\n",
       "    <span style=\"color: #008000; text-decoration-color: #008000\">'rating'</span>: <span style=\"color: #008000; text-decoration-color: #008000\">'0.85'</span>,\n",
       "    <span style=\"color: #008000; text-decoration-color: #008000\">'next'</span>: <span style=\"color: #008000; text-decoration-color: #008000\">'HUMAN'</span>\n",
       "<span style=\"font-weight: bold\">}</span>\n",
       "</pre>\n"
      ],
      "text/plain": [
       "\u001b[1m{\u001b[0m\n",
       "    \u001b[32m'setup'\u001b[0m: \u001b[32m'Why did the man run around his bed?'\u001b[0m,\n",
       "    \u001b[32m'punchline'\u001b[0m: \u001b[32m'Because he was trying to catch up on his sleep!'\u001b[0m,\n",
       "    \u001b[32m'rating'\u001b[0m: \u001b[32m'0.85'\u001b[0m,\n",
       "    \u001b[32m'next'\u001b[0m: \u001b[32m'HUMAN'\u001b[0m\n",
       "\u001b[1m}\u001b[0m\n"
      ]
     },
     "metadata": {},
     "output_type": "display_data"
    }
   ],
   "source": [
    "output = json.loads(output)\n",
    "\n",
    "rnd = randint(1, 100)\n",
    "print(rnd)\n",
    "\n",
    "if rnd < 85:\n",
    "    output[\"next\"] = \"HUMAN\"\n",
    "\n",
    "\n",
    "print(type(output))\n",
    "\n",
    "console.print(output)"
   ]
  },
  {
   "cell_type": "code",
   "execution_count": 403,
   "id": "2f0d92b3",
   "metadata": {},
   "outputs": [
    {
     "data": {
      "text/html": [
       "<pre style=\"white-space:pre;overflow-x:auto;line-height:normal;font-family:Menlo,'DejaVu Sans Mono',consolas,'Courier New',monospace\"><span style=\"color: #ff8700; text-decoration-color: #ff8700; font-weight: bold\">ROUTER (RETURN VALUE) would be: HUMAN</span>\n",
       "</pre>\n"
      ],
      "text/plain": [
       "\u001b[1;38;5;208mROUTER \u001b[0m\u001b[1;38;5;208m(\u001b[0m\u001b[1;38;5;208mRETURN VALUE\u001b[0m\u001b[1;38;5;208m)\u001b[0m\u001b[1;38;5;208m would be: HUMAN\u001b[0m\n"
      ]
     },
     "metadata": {},
     "output_type": "display_data"
    }
   ],
   "source": [
    "console.print(f\"[dark_orange bold]ROUTER (RETURN VALUE) would be: {output[\"next\"]}[/]\")"
   ]
  }
 ],
 "metadata": {
  "kernelspec": {
   "display_name": "venv",
   "language": "python",
   "name": "python3"
  },
  "language_info": {
   "codemirror_mode": {
    "name": "ipython",
    "version": 3
   },
   "file_extension": ".py",
   "mimetype": "text/x-python",
   "name": "python",
   "nbconvert_exporter": "python",
   "pygments_lexer": "ipython3",
   "version": "3.12.1"
  }
 },
 "nbformat": 4,
 "nbformat_minor": 5
}
