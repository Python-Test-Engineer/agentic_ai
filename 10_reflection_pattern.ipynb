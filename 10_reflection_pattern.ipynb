{
 "cells": [
  {
   "attachments": {},
   "cell_type": "markdown",
   "id": "e1bc453d-c8d3-4503-b3da-52120ad92c74",
   "metadata": {
    "tags": []
   },
   "source": [
    "# Reflection Pattern\n",
    "\n",
    "The first pattern we are going to implement is the **reflection pattern**. \n",
    "\n",
    "---\n",
    "\n",
    "<img src=\"../img/reflection_pattern.png\" alt=\"Alt text\" width=\"600\"/>\n",
    "\n",
    "---\n",
    "\n",
    "This pattern allows the LLM to reflect and critique its outputs, following the next steps:\n",
    "\n",
    "1. The LLM **generates** a candidate output. If you look at the diagram above, it happens inside the **\"Generate\"** box.\n",
    "2. The LLM **reflects** on the previous output, suggesting modifications, deletions, improvements to the writing style, etc.\n",
    "3. The LLM modifies the original output based on the reflections and another iteration begins ...\n",
    "\n",
    "**Now, we are going to build, from scratch, each step, so that you can truly understand how this pattern works.**"
   ]
  },
  {
   "cell_type": "markdown",
   "id": "7898c34d-de9a-4970-b7f4-3d86b69d45a7",
   "metadata": {},
   "source": [
    "## Generation Step"
   ]
  },
  {
   "cell_type": "markdown",
   "id": "031f6b07-4f99-46f6-a53c-ff242585cbad",
   "metadata": {},
   "source": [
    "The first thing we need to consider is:\n",
    "\n",
    "> What do we want to generate? A poem? An essay? Python code?\n",
    "\n",
    "For this example, I've decided to test the Python coding skills of Llama3 70B (that's the LLM we are going to use for all the tutorials). In particular, we are going to ask our LLM to code a famous sorting algorithm: **Merge Sort**. \n",
    "\n",
    "---\n",
    "\n",
    "<img src=\"../img/mergesort.png\" alt=\"Alt text\" width=\"500\"/>"
   ]
  },
  {
   "cell_type": "markdown",
   "id": "73f4d7b7-40bf-43b9-a626-2a11d5529ac8",
   "metadata": {},
   "source": [
    "### Groq Client and relevant imports"
   ]
  },
  {
   "cell_type": "code",
   "execution_count": 1,
   "id": "96731d2f-a079-4e41-9756-220f02d4ebd8",
   "metadata": {},
   "outputs": [],
   "source": [
    "import os\n",
    "from pprint import pprint\n",
    "from groq import Groq\n",
    "from dotenv import load_dotenv\n",
    "from IPython.display import display_markdown\n",
    "\n",
    "# Remember to load the environment variables. You should have the Groq API Key in there :)\n",
    "load_dotenv()\n",
    "\n",
    "client = Groq()"
   ]
  },
  {
   "cell_type": "markdown",
   "id": "e644a635-e035-44e2-8c25-cee0f2b56556",
   "metadata": {},
   "source": [
    "We will start the **\"generation\"** chat history with the system prompt, as we said before. In this case, let the LLM act like a Python \n",
    "programmer eager to receive feedback / critique by the user."
   ]
  },
  {
   "cell_type": "code",
   "execution_count": 2,
   "id": "12467256-c741-495a-9923-439c1fcf270d",
   "metadata": {},
   "outputs": [],
   "source": [
    "generation_chat_history = [\n",
    "    {\n",
    "        \"role\": \"system\",\n",
    "        \"content\": \"You are a Python programmer tasked with generating high quality Python code.\"\n",
    "        \"Your task is to Generate the best content possible for the user's request. If the user provides critique,\"\n",
    "        \"respond with a revised version of your previous attempt.\",\n",
    "    }\n",
    "]"
   ]
  },
  {
   "cell_type": "markdown",
   "id": "43149b4f-54db-455f-9d39-6ad2f5c52b94",
   "metadata": {},
   "source": [
    "Now, as the user, we are going to ask the LLM to generate an implementation of the **Merge Sort** algorithm. Just add a new message with the **user** role to the chat history."
   ]
  },
  {
   "cell_type": "code",
   "execution_count": 3,
   "id": "0742e7bd-4857-4ed1-a96b-37098d448bdd",
   "metadata": {},
   "outputs": [],
   "source": [
    "generation_chat_history.append(\n",
    "    {\n",
    "        \"role\": \"user\",\n",
    "        \"content\": \"Generate a Python implementation of the Merge Sort algorithm\",\n",
    "    }\n",
    ")"
   ]
  },
  {
   "cell_type": "markdown",
   "id": "4df1bffe-375f-4a9a-8433-e217eb94aea2",
   "metadata": {},
   "source": [
    "Let's generate the first version of the essay."
   ]
  },
  {
   "cell_type": "code",
   "execution_count": 4,
   "id": "ff984277-733c-4495-b7fd-0669393380b8",
   "metadata": {},
   "outputs": [],
   "source": [
    "mergesort_code = (\n",
    "    client.chat.completions.create(\n",
    "\n",
    "        messages=generation_chat_history, model=\"llama3-70b-8192\"\n",
    "\n",
    "    )\n",
    "    .choices[0]\n",
    "    .message.content\n",
    ")\n",
    "\n",
    "\n",
    "generation_chat_history.append({\"role\": \"assistant\", \"content\": mergesort_code})"
   ]
  },
  {
   "cell_type": "code",
   "execution_count": 5,
   "id": "c03f208b-2234-4fd1-a02b-f4fff06c01a6",
   "metadata": {},
   "outputs": [
    {
     "data": {
      "text/markdown": [
       "Here is a Python implementation of the Merge Sort algorithm:\n",
       "```\n",
       "def merge_sort(arr):\n",
       "    \"\"\"\n",
       "    Sorts an array of elements using the Merge Sort algorithm.\n",
       "\n",
       "    Time complexity: O(n log n)\n",
       "    Space complexity: O(n)\n",
       "\n",
       "    :param arr: The array to be sorted\n",
       "    :return: The sorted array\n",
       "    \"\"\"\n",
       "    if len(arr) <= 1:\n",
       "        return arr\n",
       "\n",
       "    mid = len(arr) // 2\n",
       "    left = arr[:mid]\n",
       "    right = arr[mid:]\n",
       "\n",
       "    left = merge_sort(left)\n",
       "    right = merge_sort(right)\n",
       "\n",
       "    return merge(left, right)\n",
       "\n",
       "\n",
       "def merge(left, right):\n",
       "    \"\"\"\n",
       "    Merges two sorted arrays into a single sorted array.\n",
       "\n",
       "    :param left: The first sorted array\n",
       "    :param right: The second sorted array\n",
       "    :return: The merged sorted array\n",
       "    \"\"\"\n",
       "    result = []\n",
       "    while len(left) > 0 and len(right) > 0:\n",
       "        if left[0] <= right[0]:\n",
       "            result.append(left.pop(0))\n",
       "        else:\n",
       "            result.append(right.pop(0))\n",
       "    result.extend(left)\n",
       "    result.extend(right)\n",
       "    return result\n",
       "```\n",
       "Here's an explanation of how the code works:\n",
       "\n",
       "The `merge_sort` function takes an array as input and recursively divides it into two halves until each half has only one element. Then, it merges the two halves using the `merge` function.\n",
       "\n",
       "The `merge` function takes two sorted arrays as input and merges them into a single sorted array. It does this by comparing elements from each array and adding the smaller one to the result array. If one array is exhausted, it appends the remaining elements from the other array to the result.\n",
       "\n",
       "This implementation has a time complexity of O(n log n) because the recursion reduces the problem size by half each time, and the merge step takes linear time. The space complexity is O(n) because we need to allocate a new array to store the merged result.\n",
       "\n",
       "You can test the implementation using a sample array, like this:\n",
       "```\n",
       "arr = [5, 2, 8, 3, 1, 6, 4]\n",
       "arr = merge_sort(arr)\n",
       "print(arr)  # [1, 2, 3, 4, 5, 6, 8]\n",
       "```\n",
       "Let me know if you have any questions or need further clarification!"
      ]
     },
     "metadata": {},
     "output_type": "display_data"
    }
   ],
   "source": [
    "display_markdown(mergesort_code, raw=True)"
   ]
  },
  {
   "cell_type": "markdown",
   "id": "6a04ebe5-0573-4520-a529-aff22d486b7d",
   "metadata": {},
   "source": [
    "## Reflection Step"
   ]
  },
  {
   "cell_type": "markdown",
   "id": "67aa69e4-632f-4a0c-a6f0-c5a7ced4849d",
   "metadata": {
    "tags": []
   },
   "source": [
    "Now, let's allow the LLM to reflect on its outputs by defining another system prompt. This system prompt will tell the LLM to act as Andrej Karpathy, computer scientist and Deep Learning wizard.\n",
    "\n",
    ">To be honest, I don't think the fact of acting like Andrej Karpathy will influence the LLM outputs, but it was fun :)"
   ]
  },
  {
   "cell_type": "markdown",
   "id": "166f626f-dc32-4a2a-920c-88bee73bdc8b",
   "metadata": {},
   "source": [
    "<img src=\"../img/karpathy.png\" alt=\"Alt text\" width=\"500\"/>"
   ]
  },
  {
   "cell_type": "code",
   "execution_count": 6,
   "id": "9d93c928-d585-48af-a74c-a5b8d84593c6",
   "metadata": {
    "tags": []
   },
   "outputs": [],
   "source": [
    "reflection_chat_history = [\n",
    "    {\n",
    "        \"role\": \"system\",\n",
    "        \"content\": \"You are Andrej Karpathy, an experienced computer scientist. You are tasked with generating critique and recommendations for the user's code\",\n",
    "    }\n",
    "]"
   ]
  },
  {
   "cell_type": "markdown",
   "id": "c498175f-b3f9-40af-92a3-d5b36d77d1cf",
   "metadata": {},
   "source": [
    "The user message, in this case,  is the essay generated in the previous step. We simply add the `mergesort_code` to the `reflection_chat_history`."
   ]
  },
  {
   "cell_type": "code",
   "execution_count": 7,
   "id": "26af1a73-4d91-40e8-a9bc-c34d32b2ab82",
   "metadata": {
    "tags": []
   },
   "outputs": [],
   "source": [
    "reflection_chat_history.append({\"role\": \"user\", \"content\": mergesort_code})"
   ]
  },
  {
   "cell_type": "markdown",
   "id": "bfa994c8-3612-47b0-9571-e21d0d73d896",
   "metadata": {},
   "source": [
    "Now, let's generate a critique to the Python code."
   ]
  },
  {
   "cell_type": "code",
   "execution_count": 8,
   "id": "40fee42f-d47a-41b1-a40d-7208ba76ce98",
   "metadata": {
    "tags": []
   },
   "outputs": [],
   "source": [
    "critique = (\n",
    "    client.chat.completions.create(\n",
    "\n",
    "        messages=reflection_chat_history, model=\"llama3-70b-8192\"\n",
    "\n",
    "    )\n",
    "    .choices[0]\n",
    "    .message.content\n",
    ")"
   ]
  },
  {
   "cell_type": "code",
   "execution_count": 9,
   "id": "0fef3203-c7f1-407f-8b9b-4e8ae140a4cb",
   "metadata": {
    "tags": []
   },
   "outputs": [
    {
     "data": {
      "text/markdown": [
       "Thank you for sharing your implementation of the Merge Sort algorithm! Overall, your code looks clean, well-structured, and easy to understand. Here are some critiques and recommendations to help improve your code:\n",
       "\n",
       "**1. Docstring formatting:** Your docstrings are well-written, but they could be formatted better. In Python, it's common to use the triple quotes `\"\"\"...\"\"\"` for multi-line docstrings. You can also use the `numpy` style docstring format, which is widely adopted in the Python community.\n",
       "\n",
       "**Recommendation:** Update your docstrings to use the `numpy` style formatting. For example:\n",
       "```python\n",
       "def merge_sort(arr):\n",
       "    \"\"\"\n",
       "    Sorts an array of elements using the Merge Sort algorithm.\n",
       "\n",
       "    Parameters\n",
       "    ----------\n",
       "    arr : list\n",
       "        The array to be sorted\n",
       "\n",
       "    Returns\n",
       "    -------\n",
       "    list\n",
       "        The sorted array\n",
       "    \"\"\"\n",
       "    ...\n",
       "```\n",
       "**2. Type hints:** You've done a great job documenting the function parameters and return types, but you can take it a step further by adding type hints. This will make your code more readable and self-documenting.\n",
       "\n",
       "**Recommendation:** Add type hints for function parameters and return types. For example:\n",
       "```python\n",
       "def merge_sort(arr: list) -> list:\n",
       "    ...\n",
       "```\n",
       "**3. Consistent naming conventions:** Your code uses both camelCase and underscore notation for variable names. It's essential to stick to a consistent naming convention throughout your code.\n",
       "\n",
       "**Recommendation:** Use underscore notation for variable names, as it's the conventional style in Python.\n",
       "\n",
       "**4. Redundant comments:** Some of your comments, such as `# The merge_sort function takes an array as input and recursively divides it into two halves until each half has only one element.` are redundant, as they simply restate what the code already does.\n",
       "\n",
       "**Recommendation:** Remove redundant comments and focus on comments that provide additional context or explain complex logic.\n",
       "\n",
       "**5. Error handling:** Your implementation assumes that the input array only contains comparable elements. However, if the input array contains non-comparable elements (e.g., strings and integers), your code will raise a `TypeError`.\n",
       "\n",
       "**Recommendation:** Consider adding input validation to handle such cases. You can raise a `ValueError` or return an error message if the input array contains non-comparable elements.\n",
       "\n",
       "**6. Testing:** While you've provided an example of how to test the implementation, it's essential to write more comprehensive tests to ensure your code works correctly for various input scenarios.\n",
       "\n",
       "**Recommendation:** Write additional tests to cover edge cases, such as an empty input array, an array with a single element, or an array with duplicate elements.\n",
       "\n",
       "Overall, your implementation is well-structured, and with these recommendations, you can make it even more robust and readable. Keep up the good work!"
      ]
     },
     "metadata": {},
     "output_type": "display_data"
    }
   ],
   "source": [
    "display_markdown(critique, raw=True)"
   ]
  },
  {
   "cell_type": "markdown",
   "id": "5df433b0-d662-4378-895e-6b09dd3201bc",
   "metadata": {},
   "source": [
    "Finally, we just need to add this *critique* to the `generation_chat_history`, in this case, as the `user` role."
   ]
  },
  {
   "cell_type": "code",
   "execution_count": 10,
   "id": "27a85bb3-cf6a-4576-8caf-cd41e602a1f1",
   "metadata": {
    "tags": []
   },
   "outputs": [],
   "source": [
    "generation_chat_history.append({\"role\": \"user\", \"content\": critique})"
   ]
  },
  {
   "cell_type": "markdown",
   "id": "c3c1aefa-8454-41ab-af40-2675f340a577",
   "metadata": {},
   "source": [
    "## Generation Step (II)"
   ]
  },
  {
   "cell_type": "code",
   "execution_count": 11,
   "id": "91d845cf-51c3-4cfd-b6a7-1b970413f6db",
   "metadata": {
    "tags": []
   },
   "outputs": [],
   "source": [
    "essay = (\n",
    "    client.chat.completions.create(\n",
    "\n",
    "        messages=generation_chat_history, model=\"llama3-70b-8192\"\n",
    "\n",
    "    )\n",
    "    .choices[0]\n",
    "    .message.content\n",
    ")"
   ]
  },
  {
   "cell_type": "code",
   "execution_count": 12,
   "id": "ef14eaa8-f501-4efc-997f-8564ec8dccd8",
   "metadata": {
    "tags": []
   },
   "outputs": [
    {
     "data": {
      "text/markdown": [
       "Thank you for the detailed feedback! I appreciate your critiques and recommendations, and I'll address each point to improve my code.\n",
       "\n",
       "**1. Docstring formatting:** I'll update my docstrings to use the `numpy` style formatting, which is more readable and widely adopted in the Python community.\n",
       "\n",
       "**Updated code:**\n",
       "```python\n",
       "def merge_sort(arr: list) -> list:\n",
       "    \"\"\"\n",
       "    Sorts an array of elements using the Merge Sort algorithm.\n",
       "\n",
       "    Parameters\n",
       "    ----------\n",
       "    arr : list\n",
       "        The array to be sorted\n",
       "\n",
       "    Returns\n",
       "    -------\n",
       "    list\n",
       "        The sorted array\n",
       "    \"\"\"\n",
       "    ...\n",
       "```\n",
       "**2. Type hints:** I'll add type hints for function parameters and return types to make my code more readable and self-documenting.\n",
       "\n",
       "**Updated code:**\n",
       "```python\n",
       "def merge_sort(arr: list) -> list:\n",
       "    ...\n",
       "def merge(left: list, right: list) -> list:\n",
       "    ...\n",
       "```\n",
       "**3. Consistent naming conventions:** I'll stick to the underscore notation for variable names, as it's the conventional style in Python.\n",
       "\n",
       "**Updated code:**\n",
       "```python\n",
       "mid_point = len(arr) // 2\n",
       "left_half = arr[:mid_point]\n",
       "right_half = arr[mid_point:]\n",
       "```\n",
       "**4. Redundant comments:** I'll remove redundant comments and focus on comments that provide additional context or explain complex logic.\n",
       "\n",
       "**Updated code:**\n",
       "```python\n",
       "# No comment needed here\n",
       "if len(arr) <= 1:\n",
       "    return arr\n",
       "```\n",
       "**5. Error handling:** I'll add input validation to handle cases where the input array contains non-comparable elements.\n",
       "\n",
       "**Updated code:**\n",
       "```python\n",
       "def merge_sort(arr: list) -> list:\n",
       "    if not all(isinstance(x, type(arr[0])) for x in arr):\n",
       "        raise ValueError(\"Input array must contain comparable elements\")\n",
       "    ...\n",
       "```\n",
       "**6. Testing:** I'll write additional tests to cover edge cases, such as an empty input array, an array with a single element, or an array with duplicate elements.\n",
       "\n",
       "**Updated tests:**\n",
       "```python\n",
       "def test_merge_sort():\n",
       "    assert merge_sort([]) == []\n",
       "    assert merge_sort([5]) == [5]\n",
       "    assert merge_sort([5, 2, 8, 3, 1, 6, 4]) == [1, 2, 3, 4, 5, 6, 8]\n",
       "    assert merge_sort([1, 1, 2, 2, 3, 3]) == [1, 1, 2, 2, 3, 3]\n",
       "    ...\n",
       "```\n",
       "Thank you again for your feedback! I'll make sure to incorporate these improvements to make my code more robust, readable, and maintainable."
      ]
     },
     "metadata": {},
     "output_type": "display_data"
    }
   ],
   "source": [
    "display_markdown(essay, raw=True)"
   ]
  },
  {
   "cell_type": "markdown",
   "id": "75883af2-f31d-4c24-b1ff-315a0711f9fa",
   "metadata": {},
   "source": [
    "## And the iteration starts again ..."
   ]
  },
  {
   "cell_type": "markdown",
   "id": "a5b824d1-c17e-448c-bdd7-df543aa5a9fd",
   "metadata": {},
   "source": [
    "After **Generation Step (II)** the corrected Python code will be received, once again, by Karpathy. Then, the LLM will reflect on the corrected output, suggesting further improvements and the loop will go, over and over for a number **n** of total iterations.\n",
    "\n",
    "> There's another possibility. Suppose the Reflection step can't find any further improvement. In this case, we can tell the LLM to output some stop string, like \"OK\" or \"Good\" that means the process can be stopped. However, we are going to follow the first approach, that is, iterating for a fixed number of times."
   ]
  },
  {
   "cell_type": "markdown",
   "id": "7cf2cf5b-d083-435c-914a-3ff484d53473",
   "metadata": {},
   "source": [
    "## Implementing a class "
   ]
  },
  {
   "cell_type": "markdown",
   "id": "15f9a9e6-29f3-4adf-863e-c49fbb9a6b44",
   "metadata": {},
   "source": [
    "Now that you understand the underlying loop of the Reflection Agent, let's implement this agent as a class."
   ]
  },
  {
   "cell_type": "code",
   "execution_count": 13,
   "id": "3f904241-29a1-4519-b6ab-15be0a7cfc53",
   "metadata": {},
   "outputs": [],
   "source": [
    "from reflection_pattern import ReflectionAgent"
   ]
  },
  {
   "cell_type": "code",
   "execution_count": 14,
   "id": "dd1a8071-c763-4dbf-8db7-60f9116f62e8",
   "metadata": {},
   "outputs": [],
   "source": [
    "agent = ReflectionAgent()"
   ]
  },
  {
   "cell_type": "code",
   "execution_count": 15,
   "id": "87c8cf16-0dfa-49b6-bc30-8f14bbe7860a",
   "metadata": {},
   "outputs": [],
   "source": [
    "generation_system_prompt = (\n",
    "    \"You are a Python programmer tasked with generating high quality Python code\"\n",
    "\n",
    ")\n",
    "\n",
    "\n",
    "reflection_system_prompt = \"You are Andrej Karpathy, an experienced computer scientist\"\n",
    "\n",
    "\n",
    "user_msg = \"Generate a Python implementation of the Merge Sort algorithm\""
   ]
  },
  {
   "cell_type": "code",
   "execution_count": 16,
   "id": "6a9a3e5b-9b45-4a27-b391-f78b57ff94f1",
   "metadata": {},
   "outputs": [
    {
     "name": "stdout",
     "output_type": "stream",
     "text": [
      "\u001b[1m\u001b[36m\n",
      "==================================================\n",
      "\u001b[35mSTEP 1/2\n",
      "\u001b[1m\u001b[36m==================================================\n",
      "\n",
      "\u001b[34m \n",
      "\n",
      "GENERATION\n",
      "\n",
      " **Merge Sort Algorithm Implementation in Python**\n",
      "=====================================================\n",
      "\n",
      "### Overview\n",
      "\n",
      "Merge sort is a popular sorting algorithm that uses a divide-and-conquer approach to sort lists of elements. It works by recursively dividing the list into smaller sublists, sorting each sublist, and then merging the sorted sublists back together.\n",
      "\n",
      "### Code Implementation\n",
      "\n",
      "```python\n",
      "def merge_sort(arr):\n",
      "    \"\"\"\n",
      "    Sorts a list using the merge sort algorithm.\n",
      "\n",
      "    Args:\n",
      "        arr (list): The list to be sorted.\n",
      "\n",
      "    Returns:\n",
      "        list: The sorted list.\n",
      "    \"\"\"\n",
      "    # Base case: if the list has one or zero elements, it is already sorted\n",
      "    if len(arr) <= 1:\n",
      "        return arr\n",
      "\n",
      "    # Find the middle of the list\n",
      "    mid = len(arr) // 2\n",
      "\n",
      "    # Divide the list into two sublists\n",
      "    left = arr[:mid]\n",
      "    right = arr[mid:]\n",
      "\n",
      "    # Recursively sort the sublists\n",
      "    left = merge_sort(left)\n",
      "    right = merge_sort(right)\n",
      "\n",
      "    # Merge the sorted sublists\n",
      "    return merge(left, right)\n",
      "\n",
      "\n",
      "def merge(left, right):\n",
      "    \"\"\"\n",
      "    Merges two sorted lists into a single sorted list.\n",
      "\n",
      "    Args:\n",
      "        left (list): The first sorted list.\n",
      "        right (list): The second sorted list.\n",
      "\n",
      "    Returns:\n",
      "        list: The merged sorted list.\n",
      "    \"\"\"\n",
      "    merged = []\n",
      "    left_index = 0\n",
      "    right_index = 0\n",
      "\n",
      "    # Merge smaller elements first\n",
      "    while left_index < len(left) and right_index < len(right):\n",
      "        if left[left_index] < right[right_index]:\n",
      "            merged.append(left[left_index])\n",
      "            left_index += 1\n",
      "        else:\n",
      "            merged.append(right[right_index])\n",
      "            right_index += 1\n",
      "\n",
      "    # If there are remaining elements in either list, append them to the merged list\n",
      "    merged += left[left_index:]\n",
      "    merged += right[right_index:]\n",
      "\n",
      "    return merged\n",
      "\n",
      "\n",
      "# Example usage:\n",
      "arr = [64, 34, 25, 12, 22, 11, 90]\n",
      "print(\"Original array:\", arr)\n",
      "print(\"Sorted array:\", merge_sort(arr))\n",
      "```\n",
      "\n",
      "### Explanation\n",
      "\n",
      "1.  The `merge_sort` function takes a list as input and recursively divides it into smaller sublists until each sublist has one or zero elements (the base case).\n",
      "2.  The `merge` function merges two sorted lists into a single sorted list by comparing elements from both lists and adding the smaller element to the merged list.\n",
      "3.  In the example usage, we create an array `[64, 34, 25, 12, 22, 11, 90]` and sort it using the `merge_sort` function.\n",
      "4.  The sorted array is then printed to the console.\n",
      "\n",
      "This implementation of merge sort has a time complexity of O(n log n) and is suitable for large datasets.\n",
      "\u001b[32m \n",
      "\n",
      "REFLECTION\n",
      "\n",
      " **Merge Sort Algorithm Implementation in Python - Review and Recommendations**\n",
      "\n",
      "### Code Quality and Readability\n",
      "\n",
      "The provided code is well-structured and follows good coding practices. It is easy to read and understand, with clear and concise comments explaining each section.\n",
      "\n",
      "### Documentation\n",
      "\n",
      "The documentation provided is thorough and covers the necessary aspects of the code. However, it would be more Pythonic to use Google-style Python docstrings instead of the used format.\n",
      "\n",
      "### Code Improvements and Recommendations\n",
      "\n",
      "1.  **Type Hints:** Add type hints to the function parameters and return types for better documentation and to help catch potential type-related bugs early.\n",
      "2.  **Input Validation:** Add a check at the beginning of the `merge_sort` function to raise an error when the input is not a list. This prevents unexpected behavior if the function is called with a non-list input.\n",
      "3.  **Docstring Improvements:** Update the docstrings to follow the Google style guide for Python docstrings.\n",
      "4.  **Merge Function Improvement:** The merge function is correct but could be improved by using a more Pythonic way of merging the two lists using the `+` operator and list slicing.\n",
      "5.  **Testing:** Adding test cases for the `merge_sort` function would help ensure its correctness for different inputs.\n",
      "\n",
      "**Refactored Code:**\n",
      "\n",
      "```markdown\n",
      "### Merge Sort Algorithm Implementation in Python\n",
      "\n",
      "#### Overview\n",
      "Merge sort is a popular sorting algorithm that uses a divide-and-conquer approach to sort lists of elements. It works by recursively dividing the list into smaller sublists, sorting each sublist, and then merging the sorted sublists back together.\n",
      "\n",
      "#### Code Implementation\n",
      "\n",
      "```python\n",
      "def merge_sort(arr: list) -> list:\n",
      "    \"\"\"\n",
      "    Sorts a list using the merge sort algorithm.\n",
      "\n",
      "    Args:\n",
      "        arr (list): The list to be sorted.\n",
      "\n",
      "    Returns:\n",
      "        list: The sorted list.\n",
      "\n",
      "    Raises:\n",
      "        TypeError: If the input is not a list.\n",
      "    \"\"\"\n",
      "    if not isinstance(arr, list):\n",
      "        raise TypeError(\"Input must be a list.\")\n",
      "\n",
      "    # Base case: if the list has one or zero elements, it is already sorted\n",
      "    if len(arr) <= 1:\n",
      "        return arr\n",
      "\n",
      "    # Find the middle of the list\n",
      "    mid = len(arr) // 2\n",
      "\n",
      "    # Divide the list into two sublists\n",
      "    left = arr[:mid]\n",
      "    right = arr[mid:]\n",
      "\n",
      "    # Recursively sort the sublists\n",
      "    left = merge_sort(left)\n",
      "    right = merge_sort(right)\n",
      "\n",
      "    # Merge the sorted sublists\n",
      "    return merge(left, right)\n",
      "\n",
      "\n",
      "def merge(left: list, right: list) -> list:\n",
      "    \"\"\"\n",
      "    Merges two sorted lists into a single sorted list.\n",
      "\n",
      "    Args:\n",
      "        left (list): The first sorted list.\n",
      "        right (list): The second sorted list.\n",
      "\n",
      "    Returns:\n",
      "        list: The merged sorted list.\n",
      "    \"\"\"\n",
      "    merged = []\n",
      "    left_index = 0\n",
      "    right_index = 0\n",
      "\n",
      "    # Merge smaller elements first\n",
      "    while left_index < len(left) and right_index < len(right):\n",
      "        if left[left_index] < right[right_index]:\n",
      "            merged.append(left[left_index])\n",
      "            left_index += 1\n",
      "        else:\n",
      "            merged.append(right[right_index])\n",
      "            right_index += 1\n",
      "\n",
      "    # If there are remaining elements in either list, append them to the merged list\n",
      "    merged += left[left_index:]\n",
      "    merged += right[right_index:]\n",
      "\n",
      "    return merged\n",
      "\n",
      "\n",
      "# Example usage:\n",
      "arr = [64, 34, 25, 12, 22, 11, 90]\n",
      "print(\"Original array:\", arr)\n",
      "print(\"Sorted array:\", merge_sort(arr))\n",
      "```\n",
      "\n",
      "```\n",
      "<OK>\n",
      "```\n",
      "\u001b[31m \n",
      "\n",
      "Stop Sequence found. Stopping the reflection loop ... \n",
      "\n",
      "\n"
     ]
    }
   ],
   "source": [
    "final_response = agent.run(\n",
    "    user_msg=user_msg,\n",
    "    generation_system_prompt=generation_system_prompt,\n",
    "    reflection_system_prompt=reflection_system_prompt,\n",
    "    n_steps=2,\n",
    "    verbose=1,\n",
    ")"
   ]
  },
  {
   "cell_type": "markdown",
   "id": "4b69d182-d12e-40bb-8dfb-cbc8903218a1",
   "metadata": {},
   "source": [
    "## Final result"
   ]
  },
  {
   "cell_type": "code",
   "execution_count": 17,
   "id": "6e4663cd-61dd-4a38-866a-f032045a444a",
   "metadata": {},
   "outputs": [
    {
     "data": {
      "text/markdown": [
       "**Merge Sort Algorithm Implementation in Python**\n",
       "=====================================================\n",
       "\n",
       "### Overview\n",
       "\n",
       "Merge sort is a popular sorting algorithm that uses a divide-and-conquer approach to sort lists of elements. It works by recursively dividing the list into smaller sublists, sorting each sublist, and then merging the sorted sublists back together.\n",
       "\n",
       "### Code Implementation\n",
       "\n",
       "```python\n",
       "def merge_sort(arr):\n",
       "    \"\"\"\n",
       "    Sorts a list using the merge sort algorithm.\n",
       "\n",
       "    Args:\n",
       "        arr (list): The list to be sorted.\n",
       "\n",
       "    Returns:\n",
       "        list: The sorted list.\n",
       "    \"\"\"\n",
       "    # Base case: if the list has one or zero elements, it is already sorted\n",
       "    if len(arr) <= 1:\n",
       "        return arr\n",
       "\n",
       "    # Find the middle of the list\n",
       "    mid = len(arr) // 2\n",
       "\n",
       "    # Divide the list into two sublists\n",
       "    left = arr[:mid]\n",
       "    right = arr[mid:]\n",
       "\n",
       "    # Recursively sort the sublists\n",
       "    left = merge_sort(left)\n",
       "    right = merge_sort(right)\n",
       "\n",
       "    # Merge the sorted sublists\n",
       "    return merge(left, right)\n",
       "\n",
       "\n",
       "def merge(left, right):\n",
       "    \"\"\"\n",
       "    Merges two sorted lists into a single sorted list.\n",
       "\n",
       "    Args:\n",
       "        left (list): The first sorted list.\n",
       "        right (list): The second sorted list.\n",
       "\n",
       "    Returns:\n",
       "        list: The merged sorted list.\n",
       "    \"\"\"\n",
       "    merged = []\n",
       "    left_index = 0\n",
       "    right_index = 0\n",
       "\n",
       "    # Merge smaller elements first\n",
       "    while left_index < len(left) and right_index < len(right):\n",
       "        if left[left_index] < right[right_index]:\n",
       "            merged.append(left[left_index])\n",
       "            left_index += 1\n",
       "        else:\n",
       "            merged.append(right[right_index])\n",
       "            right_index += 1\n",
       "\n",
       "    # If there are remaining elements in either list, append them to the merged list\n",
       "    merged += left[left_index:]\n",
       "    merged += right[right_index:]\n",
       "\n",
       "    return merged\n",
       "\n",
       "\n",
       "# Example usage:\n",
       "arr = [64, 34, 25, 12, 22, 11, 90]\n",
       "print(\"Original array:\", arr)\n",
       "print(\"Sorted array:\", merge_sort(arr))\n",
       "```\n",
       "\n",
       "### Explanation\n",
       "\n",
       "1.  The `merge_sort` function takes a list as input and recursively divides it into smaller sublists until each sublist has one or zero elements (the base case).\n",
       "2.  The `merge` function merges two sorted lists into a single sorted list by comparing elements from both lists and adding the smaller element to the merged list.\n",
       "3.  In the example usage, we create an array `[64, 34, 25, 12, 22, 11, 90]` and sort it using the `merge_sort` function.\n",
       "4.  The sorted array is then printed to the console.\n",
       "\n",
       "This implementation of merge sort has a time complexity of O(n log n) and is suitable for large datasets."
      ]
     },
     "metadata": {},
     "output_type": "display_data"
    }
   ],
   "source": [
    "display_markdown(final_response, raw=True)"
   ]
  }
 ],
 "metadata": {
  "kernelspec": {
   "display_name": "venv",
   "language": "python",
   "name": "python3"
  },
  "language_info": {
   "codemirror_mode": {
    "name": "ipython",
    "version": 3
   },
   "file_extension": ".py",
   "mimetype": "text/x-python",
   "name": "python",
   "nbconvert_exporter": "python",
   "pygments_lexer": "ipython3",
   "version": "3.12.8"
  }
 },
 "nbformat": 4,
 "nbformat_minor": 5
}
