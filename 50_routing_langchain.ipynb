{
 "cells": [
  {
   "cell_type": "code",
   "execution_count": 1,
   "metadata": {},
   "outputs": [],
   "source": [
    "from langchain.utils.math import cosine_similarity\n",
    "from langchain_core.output_parsers import StrOutputParser\n",
    "from langchain_core.prompts import PromptTemplate\n",
    "from langchain_core.runnables import RunnableLambda, RunnablePassthrough\n",
    "from langchain_openai import ChatOpenAI, OpenAIEmbeddings\n",
    "\n",
    "from dotenv import load_dotenv\n",
    "\n",
    "load_dotenv()\n",
    "\n",
    "car_template = \"\"\"You are an expert in automobiles. You have extensive knowledge about car mechanics, \\\n",
    "models, and automotive technology. You provide clear and helpful answers about cars.\n",
    "\n",
    "Here is a question:\n",
    "{query}\"\"\"\n",
    "\n",
    "restaurant_template = \"\"\"You are a knowledgeable food critic and restaurant reviewer. You have a deep understanding of \\\n",
    "different cuisines, dining experiences, and what makes a great restaurant. You answer questions about restaurants insightfully.\n",
    "\n",
    "Here is a question:\n",
    "{query}\"\"\"\n",
    "\n",
    "technology_template = \"\"\"You are a tech expert with in-depth knowledge of the latest gadgets, software, \\\n",
    "and technological trends. You provide insightful and detailed answers about technology.\n",
    "\n",
    "Here is a question:\n",
    "{query}\"\"\""
   ]
  },
  {
   "cell_type": "code",
   "execution_count": 2,
   "metadata": {},
   "outputs": [],
   "source": [
    "car_questions = [\n",
    "    \"What is the difference between a sedan and an SUV?\",\n",
    "    \"How does a hybrid car save fuel?\",\n",
    "    \"What should I look for when buying a used car?\",\n",
    "]\n",
    "\n",
    "restaurant_questions = [\n",
    "    \"What makes a five-star restaurant exceptional?\",\n",
    "    \"How do I choose a good wine pairing for my meal?\",\n",
    "    \"What are the key elements of French cuisine?\",\n",
    "]\n",
    "\n",
    "technology_questions = [\n",
    "    \"What are the latest advancements in AI?\",\n",
    "    \"How do I secure my home network against cyber threats?\",\n",
    "    \"What should I consider when buying a new smartphone?\",\n",
    "]"
   ]
  },
  {
   "cell_type": "code",
   "execution_count": 3,
   "metadata": {},
   "outputs": [],
   "source": [
    "embeddings = OpenAIEmbeddings()\n",
    "\n",
    "car_question_embeddings = embeddings.embed_documents(car_questions)\n",
    "restaurant_question_embeddings = embeddings.embed_documents(restaurant_questions)\n",
    "technology_question_embeddings = embeddings.embed_documents(technology_questions)"
   ]
  },
  {
   "cell_type": "code",
   "execution_count": 4,
   "metadata": {},
   "outputs": [
    {
     "name": "stdout",
     "output_type": "stream",
     "text": [
      "Using CAR\n"
     ]
    }
   ],
   "source": [
    "def prompt_router(input):\n",
    "    query_embedding = embeddings.embed_query(input[\"query\"])\n",
    "    car_similarity = cosine_similarity([query_embedding], car_question_embeddings)[0]\n",
    "    restaurant_similarity = cosine_similarity(\n",
    "        [query_embedding], restaurant_question_embeddings\n",
    "    )[0]\n",
    "    technology_similarity = cosine_similarity(\n",
    "        [query_embedding], technology_question_embeddings\n",
    "    )[0]\n",
    "\n",
    "    max_similarity = max(\n",
    "        max(car_similarity), max(restaurant_similarity), max(technology_similarity)\n",
    "    )\n",
    "\n",
    "    if max_similarity == max(car_similarity):\n",
    "        print(\"Using CAR\")\n",
    "        return PromptTemplate.from_template(car_template)\n",
    "    elif max_similarity == max(restaurant_similarity):\n",
    "        print(\"Using RESTAURANT\")\n",
    "        return PromptTemplate.from_template(restaurant_template)\n",
    "    else:\n",
    "        print(\"Using TECHNOLOGY\")\n",
    "        return PromptTemplate.from_template(technology_template)\n",
    "\n",
    "\n",
    "input_query = {\"query\": \"What's the best way to improve my cars's battery life?\"}\n",
    "prompt = prompt_router(input_query)"
   ]
  },
  {
   "cell_type": "code",
   "execution_count": 5,
   "metadata": {},
   "outputs": [],
   "source": [
    "chain = (\n",
    "    {\"query\": RunnablePassthrough()}\n",
    "    | RunnableLambda(prompt_router)\n",
    "    | ChatOpenAI()\n",
    "    | StrOutputParser()\n",
    ")"
   ]
  },
  {
   "cell_type": "code",
   "execution_count": 6,
   "metadata": {},
   "outputs": [
    {
     "name": "stdout",
     "output_type": "stream",
     "text": [
      "Using RESTAURANT\n"
     ]
    },
    {
     "data": {
      "text/plain": [
       "\"Identifying a good vintage wine at a restaurant can be a fun and rewarding experience. Here are some tips to help you choose a great vintage wine:\\n\\n1. Look for reputable wine regions: Wines from well-known and respected regions such as Bordeaux, Burgundy, Napa Valley, and Tuscany are more likely to be of high quality.\\n\\n2. Check the wine list: A restaurant that has a well-curated wine list with a good selection of vintage wines is more likely to have a knowledgeable sommelier or wine director who can help guide you to a great choice.\\n\\n3. Consider the price: While price doesn't always equate to quality, vintage wines are typically more expensive due to their rarity and aging process. If a vintage wine is priced significantly lower than expected, it may not be of the best quality.\\n\\n4. Ask for recommendations: Don't be afraid to ask your server or sommelier for recommendations based on your preferences. They can often provide valuable insights and help you find a vintage wine that suits your taste.\\n\\n5. Look for specific vintages: Some vintages are known to be exceptional, so keep an eye out for specific years that are highly regarded in the wine world.\\n\\nOverall, trust your instincts and don't be afraid to experiment with different vintage wines to find what you enjoy. Cheers!\""
      ]
     },
     "execution_count": 6,
     "metadata": {},
     "output_type": "execute_result"
    }
   ],
   "source": [
    "chain.invoke(\"How do I identify a good vintage wine at a restaurant?\")"
   ]
  },
  {
   "cell_type": "markdown",
   "metadata": {},
   "source": [
    "Classification\n"
   ]
  },
  {
   "cell_type": "code",
   "execution_count": 7,
   "metadata": {},
   "outputs": [],
   "source": [
    "classification_template = PromptTemplate.from_template(\n",
    "    \"\"\"You are good at classifying a question.\n",
    "    Given the user question below, classify it as either being about `Car`, `Restaurant`, or `Technology`.\n",
    "\n",
    "    <If the question is about car mechanics, models, or automotive technology, classify it as 'Car'>\n",
    "    <If the question is about cuisines, dining experiences, or restaurant services, classify it as 'Restaurant'>\n",
    "    <If the question is about gadgets, software, or technological trends, classify it as 'Technology'>\n",
    "\n",
    "    <question>\n",
    "    {question}\n",
    "    </question>\n",
    "\n",
    "    Classification:\"\"\"\n",
    ")\n",
    "\n",
    "classification_chain = classification_template | ChatOpenAI() | StrOutputParser()"
   ]
  },
  {
   "cell_type": "code",
   "execution_count": 8,
   "metadata": {},
   "outputs": [
    {
     "name": "stdout",
     "output_type": "stream",
     "text": [
      "Using TECHNOLOGY\n"
     ]
    }
   ],
   "source": [
    "def prompt_router(input):\n",
    "    classification = classification_chain.invoke({\"question\": input[\"query\"]})\n",
    "\n",
    "    if classification == \"Car\":\n",
    "        print(\"Using CAR\")\n",
    "        return PromptTemplate.from_template(car_template)\n",
    "    elif classification == \"Restaurant\":\n",
    "        print(\"Using RESTAURANT\")\n",
    "        return PromptTemplate.from_template(restaurant_template)\n",
    "    elif classification == \"Technology\":\n",
    "        print(\"Using TECHNOLOGY\")\n",
    "        return PromptTemplate.from_template(technology_template)\n",
    "    else:\n",
    "        print(\"Unexpected classification:\", classification)\n",
    "        return None\n",
    "\n",
    "\n",
    "input_query = {\"query\": \"What are the latest trends in electric cars?\"}\n",
    "prompt = prompt_router(input_query)"
   ]
  },
  {
   "cell_type": "code",
   "execution_count": 9,
   "metadata": {},
   "outputs": [],
   "source": [
    "chain = (\n",
    "    {\"query\": RunnablePassthrough()}\n",
    "    | RunnableLambda(prompt_router)\n",
    "    | ChatOpenAI()\n",
    "    | StrOutputParser()\n",
    ")"
   ]
  },
  {
   "cell_type": "code",
   "execution_count": 10,
   "metadata": {},
   "outputs": [
    {
     "name": "stdout",
     "output_type": "stream",
     "text": [
      "Using RESTAURANT\n"
     ]
    },
    {
     "data": {
      "text/plain": [
       "\"Identifying a good vintage wine at a restaurant can be a bit intimidating, but there are a few key things to look for:\\n\\n1. Check the wine list: A reputable restaurant will have a well-curated wine list with a good selection of vintage wines. Look for well-known producers and regions known for producing high-quality wines.\\n\\n2. Ask the sommelier: If you're unsure about which vintage wine to choose, don't hesitate to ask the sommelier for recommendations. They are trained professionals who can guide you based on your preferences and budget.\\n\\n3. Look for specific years: Vintage wines are labeled with the year the grapes were harvested. In general, wines from good vintages tend to be of higher quality. Research the specific year of the wine you're interested in to see if it was a good vintage.\\n\\n4. Consider the region: Different wine regions have different climates and growing conditions that can affect the quality of the wine. Research the specific region of the wine to get an idea of its potential quality.\\n\\n5. Trust your instincts: Ultimately, the best way to identify a good vintage wine is to trust your own taste preferences. If you enjoy the wine and it enhances your dining experience, then it's a good choice for you.\""
      ]
     },
     "execution_count": 10,
     "metadata": {},
     "output_type": "execute_result"
    }
   ],
   "source": [
    "chain.invoke(\"How do I identify a good vintage wine at a restaurant?\")"
   ]
  },
  {
   "cell_type": "markdown",
   "metadata": {},
   "source": [
    "### Tool Calling\n"
   ]
  },
  {
   "cell_type": "code",
   "execution_count": 11,
   "metadata": {},
   "outputs": [],
   "source": [
    "from langchain_core.tools import tool\n",
    "\n",
    "\n",
    "@tool\n",
    "def classify_as_car(question: str) -> str:\n",
    "    \"\"\"Classifies the question as 'Car' if it is about car mechanics, models, or automotive technology.\n",
    "\n",
    "    Args:\n",
    "        question: The input question to classify.\n",
    "    \"\"\"\n",
    "    print(\"Function 'classify_as_car' was used.\")\n",
    "    return \"Car\"\n",
    "\n",
    "\n",
    "@tool\n",
    "def classify_as_restaurant(question: str) -> str:\n",
    "    \"\"\"Classifies the question as 'Restaurant' if it is about cuisines, dining experiences, or restaurant services.\n",
    "\n",
    "    Args:\n",
    "        question: The input question to classify.\n",
    "    \"\"\"\n",
    "    print(\"Function 'classify_as_restaurant' was used.\")\n",
    "    return \"Restaurant\"\n",
    "\n",
    "\n",
    "@tool\n",
    "def classify_as_technology(question: str) -> str:\n",
    "    \"\"\"Classifies the question as 'Technology' if it is about gadgets, software, or technological trends.\n",
    "\n",
    "    Args:\n",
    "        question: The input question to classify.\n",
    "    \"\"\"\n",
    "    print(\"Function 'classify_as_technology' was used.\")\n",
    "    return \"Technology\""
   ]
  },
  {
   "cell_type": "code",
   "execution_count": 12,
   "metadata": {},
   "outputs": [
    {
     "name": "stdout",
     "output_type": "stream",
     "text": [
      "Function 'classify_as_restaurant' was used.\n"
     ]
    },
    {
     "data": {
      "text/plain": [
       "[HumanMessage(content='How do I identify a good vintage wine at a restaurant?', additional_kwargs={}, response_metadata={}),\n",
       " AIMessage(content='', additional_kwargs={'tool_calls': [{'id': 'call_zQyXbCvx1YtWqDAqYxZW6rGg', 'function': {'arguments': '{\"question\":\"How do I identify a good vintage wine at a restaurant?\"}', 'name': 'classify_as_restaurant'}, 'type': 'function'}], 'refusal': None}, response_metadata={'token_usage': {'completion_tokens': 28, 'prompt_tokens': 188, 'total_tokens': 216, 'completion_tokens_details': {'accepted_prediction_tokens': 0, 'audio_tokens': 0, 'reasoning_tokens': 0, 'rejected_prediction_tokens': 0}, 'prompt_tokens_details': {'audio_tokens': 0, 'cached_tokens': 0}}, 'model_name': 'gpt-3.5-turbo-0125', 'system_fingerprint': None, 'finish_reason': 'tool_calls', 'logprobs': None}, id='run-7175a6f1-9dd2-4c43-ab76-972e191239d7-0', tool_calls=[{'name': 'classify_as_restaurant', 'args': {'question': 'How do I identify a good vintage wine at a restaurant?'}, 'id': 'call_zQyXbCvx1YtWqDAqYxZW6rGg', 'type': 'tool_call'}], usage_metadata={'input_tokens': 188, 'output_tokens': 28, 'total_tokens': 216, 'input_token_details': {'audio': 0, 'cache_read': 0}, 'output_token_details': {'audio': 0, 'reasoning': 0}}),\n",
       " ToolMessage(content='Restaurant', tool_call_id='call_zQyXbCvx1YtWqDAqYxZW6rGg')]"
      ]
     },
     "execution_count": 12,
     "metadata": {},
     "output_type": "execute_result"
    }
   ],
   "source": [
    "from langchain_openai import ChatOpenAI\n",
    "from langchain_core.messages import HumanMessage, ToolMessage\n",
    "\n",
    "llm = ChatOpenAI()\n",
    "\n",
    "query = \"How do I identify a good vintage wine at a restaurant?\"\n",
    "\n",
    "tools = [classify_as_car, classify_as_restaurant, classify_as_technology]\n",
    "llm_with_tools = llm.bind_tools(tools)\n",
    "\n",
    "messages = [HumanMessage(query)]\n",
    "ai_msg = llm_with_tools.invoke(messages)\n",
    "messages.append(ai_msg)\n",
    "\n",
    "for tool_call in ai_msg.tool_calls:\n",
    "    selected_tool = {\n",
    "        \"classify_as_car\": classify_as_car,\n",
    "        \"classify_as_restaurant\": classify_as_restaurant,\n",
    "        \"classify_as_technology\": classify_as_technology,\n",
    "    }[tool_call[\"name\"].lower()]\n",
    "    tool_output = selected_tool.invoke(tool_call[\"args\"])\n",
    "    messages.append(ToolMessage(tool_output, tool_call_id=tool_call[\"id\"]))\n",
    "\n",
    "messages"
   ]
  },
  {
   "cell_type": "code",
   "execution_count": 13,
   "metadata": {},
   "outputs": [
    {
     "data": {
      "text/plain": [
       "AIMessage(content=\"Since your question is related to identifying a good vintage wine at a restaurant, I will provide you with some tips on how to do so. Let's proceed with the information.\\nTo identify a good vintage wine at a restaurant, you can follow these tips:\\n\\n1. **Study the Wine List**: Look for wines with older vintages as they tend to be more valuable and have better quality. Check for renowned wine regions and producers known for their vintage wines.\\n\\n2. **Ask the Sommelier**: The sommelier at the restaurant is an expert in wines and can guide you in selecting a good vintage wine based on your preferences and budget. They can also provide you with information about the wine's origin and quality.\\n\\n3. **Consider the Price**: Vintage wines are usually more expensive than non-vintage wines. While price is not always an indicator of quality, it can give you an idea of the wine's rarity and reputation.\\n\\n4. **Look for Signs of Aging**: Inspect the wine label and cork for signs of aging, such as yellowing or dampness. Older vintage wines should have well-preserved labels and corks.\\n\\n5. **Check Reviews**: If you are unsure about a particular vintage wine, you can look up reviews and ratings online from reputable sources or wine critics to get an idea of its quality.\\n\\n6. **Taste the Wine**: Once you have selected a vintage wine, take your time to savor and appreciate its flavors. Pay attention to the wine's aroma, taste, and finish to determine if it meets your expectations.\\n\\nBy following these tips, you can confidently identify a good vintage wine at a restaurant and enhance your dining experience.\", additional_kwargs={'refusal': None}, response_metadata={'token_usage': {'completion_tokens': 339, 'prompt_tokens': 227, 'total_tokens': 566, 'completion_tokens_details': {'accepted_prediction_tokens': 0, 'audio_tokens': 0, 'reasoning_tokens': 0, 'rejected_prediction_tokens': 0}, 'prompt_tokens_details': {'audio_tokens': 0, 'cached_tokens': 0}}, 'model_name': 'gpt-3.5-turbo-0125', 'system_fingerprint': None, 'finish_reason': 'stop', 'logprobs': None}, id='run-09b9d638-47a6-4fa7-a650-7c63549505df-0', usage_metadata={'input_tokens': 227, 'output_tokens': 339, 'total_tokens': 566, 'input_token_details': {'audio': 0, 'cache_read': 0}, 'output_token_details': {'audio': 0, 'reasoning': 0}})"
      ]
     },
     "execution_count": 13,
     "metadata": {},
     "output_type": "execute_result"
    }
   ],
   "source": [
    "llm_with_tools.invoke(messages)"
   ]
  }
 ],
 "metadata": {
  "kernelspec": {
   "display_name": "venv",
   "language": "python",
   "name": "python3"
  },
  "language_info": {
   "codemirror_mode": {
    "name": "ipython",
    "version": 3
   },
   "file_extension": ".py",
   "mimetype": "text/x-python",
   "name": "python",
   "nbconvert_exporter": "python",
   "pygments_lexer": "ipython3",
   "version": "3.12.1"
  }
 },
 "nbformat": 4,
 "nbformat_minor": 2
}
