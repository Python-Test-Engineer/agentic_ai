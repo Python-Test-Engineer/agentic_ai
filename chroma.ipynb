{
  "cells": [
    {
      "cell_type": "markdown",
      "id": "683953b3",
      "metadata": {
        "id": "683953b3"
      },
      "source": [
        "# Chroma\n",
        "\n",
        "This notebook covers how to get started with the `Chroma` vector store.\n",
        "\n",
        ">[Chroma](https://docs.trychroma.com/getting-started) is a AI-native open-source vector database focused on developer productivity and happiness. Chroma is licensed under Apache 2.0. View the full docs of `Chroma` at [this page](https://docs.trychroma.com/reference/py-collection), and find the API reference for the LangChain integration at [this page](https://python.langchain.com/api_reference/chroma/vectorstores/langchain_chroma.vectorstores.Chroma.html).\n",
        "\n",
        "## Setup\n",
        "\n",
        "To access `Chroma` vector stores you'll need to install the `langchain-chroma` integration package."
      ]
    },
    {
      "cell_type": "code",
      "execution_count": 1,
      "id": "83a43688",
      "metadata": {
        "id": "83a43688"
      },
      "outputs": [],
      "source": [
        "# !pip install -qU \"langchain-chroma>=0.1.2\""
      ]
    },
    {
      "cell_type": "markdown",
      "id": "2b5ffbf8",
      "metadata": {
        "id": "2b5ffbf8"
      },
      "source": [
        "### Credentials\n",
        "\n",
        "You can use the `Chroma` vector store without any credentials, simply installing the package above is enough!"
      ]
    },
    {
      "cell_type": "markdown",
      "id": "cd17cfed",
      "metadata": {
        "id": "cd17cfed"
      },
      "source": [
        "If you want to get best in-class automated tracing of your model calls you can also set your [LangSmith](https://docs.smith.langchain.com/) API key by uncommenting below:"
      ]
    },
    {
      "cell_type": "code",
      "execution_count": 2,
      "id": "dd7e1243",
      "metadata": {
        "id": "dd7e1243"
      },
      "outputs": [],
      "source": [
        "# os.environ[\"LANGSMITH_API_KEY\"] = getpass.getpass(\"Enter your LangSmith API key: \")\n",
        "# os.environ[\"LANGSMITH_TRACING\"] = \"true\""
      ]
    },
    {
      "cell_type": "markdown",
      "id": "f47f73f4",
      "metadata": {
        "id": "f47f73f4"
      },
      "source": [
        "## Initialization\n",
        "\n",
        "### Basic Initialization\n",
        "\n",
        "Below is a basic initialization, including the use of a directory to save the data locally.\n",
        "\n",
        "import EmbeddingTabs from \"@theme/EmbeddingTabs\";\n",
        "\n",
        "<EmbeddingTabs/>\n"
      ]
    },
    {
      "cell_type": "code",
      "execution_count": 3,
      "id": "f1206f87",
      "metadata": {},
      "outputs": [],
      "source": [
        "import os\n",
        "from dotenv import load_dotenv"
      ]
    },
    {
      "cell_type": "code",
      "execution_count": 4,
      "id": "36199c3b",
      "metadata": {},
      "outputs": [],
      "source": [
        "load_dotenv()\n",
        "openai_api_key = os.getenv(\"OPENAI_API_KEY\")"
      ]
    },
    {
      "cell_type": "code",
      "execution_count": 5,
      "id": "d3ed0a9a",
      "metadata": {
        "id": "d3ed0a9a"
      },
      "outputs": [],
      "source": [
        "# | output: false\n",
        "# | echo: false\n",
        "from langchain_openai import OpenAIEmbeddings\n",
        "\n",
        "embeddings = OpenAIEmbeddings(model=\"text-embedding-3-large\")"
      ]
    },
    {
      "cell_type": "code",
      "execution_count": 6,
      "id": "3ea11a7b",
      "metadata": {
        "id": "3ea11a7b"
      },
      "outputs": [],
      "source": [
        "from langchain_chroma import Chroma\n",
        "\n",
        "vector_store = Chroma(\n",
        "    collection_name=\"example_collection\",\n",
        "    embedding_function=embeddings,\n",
        "    persist_directory=\"./chroma_langchain_db\",  # Where to save data locally, remove if not necessary\n",
        ")"
      ]
    },
    {
      "cell_type": "markdown",
      "id": "ccb62a8c",
      "metadata": {
        "id": "ccb62a8c"
      },
      "source": [
        "### Initialization from client\n",
        "\n",
        "You can also initialize from a `Chroma` client, which is particularly useful if you want easier access to the underlying database."
      ]
    },
    {
      "cell_type": "code",
      "execution_count": 7,
      "id": "3fe4457f",
      "metadata": {
        "id": "3fe4457f"
      },
      "outputs": [],
      "source": [
        "import chromadb\n",
        "\n",
        "persistent_client = chromadb.PersistentClient()\n",
        "collection = persistent_client.get_or_create_collection(\"collection_name\")\n",
        "collection.add(ids=[\"1\", \"2\", \"3\"], documents=[\"a\", \"b\", \"c\"])\n",
        "\n",
        "vector_store_from_client = Chroma(\n",
        "    client=persistent_client,\n",
        "    collection_name=\"collection_name\",\n",
        "    embedding_function=embeddings,\n",
        ")"
      ]
    },
    {
      "cell_type": "markdown",
      "id": "9d037340",
      "metadata": {
        "id": "9d037340"
      },
      "source": [
        "## Manage vector store\n",
        "\n",
        "Once you have created your vector store, we can interact with it by adding and deleting different items.\n",
        "\n",
        "### Add items to vector store\n",
        "\n",
        "We can add items to our vector store by using the `add_documents` function."
      ]
    },
    {
      "cell_type": "code",
      "execution_count": 8,
      "id": "da279339",
      "metadata": {
        "id": "da279339",
        "outputId": "1aba8089-4765-4efb-fcd4-5f81d8e977d9"
      },
      "outputs": [
        {
          "data": {
            "text/plain": [
              "['4e7f76a5-fe68-4916-bb89-25c473b1ea9b',\n",
              " '343183d5-6167-4df6-b2d0-1ce43c831df2',\n",
              " 'cd191a47-a563-4c07-ae5e-65c0c26709d7',\n",
              " '15dd7b20-4c1c-4bd5-ba40-8709e5704933',\n",
              " '87403b98-5e4d-483f-9b25-dd726d5e0ded',\n",
              " 'f2a66a28-9388-4985-bb52-ed084ef712c3',\n",
              " '517fa03a-8dac-48c8-95bd-a244d3931443',\n",
              " '4365956c-6b61-44f2-8bd5-45f3056559ee',\n",
              " 'ea6ef4a8-4f84-4f42-bfad-770e54f23540',\n",
              " '1dfb781f-2b0c-4304-b79d-a5f99f5b314b']"
            ]
          },
          "execution_count": 8,
          "metadata": {},
          "output_type": "execute_result"
        }
      ],
      "source": [
        "from uuid import uuid4\n",
        "\n",
        "from langchain_core.documents import Document\n",
        "\n",
        "document_1 = Document(\n",
        "    page_content=\"I had chocolate chip pancakes and scrambled eggs for breakfast this morning.\",\n",
        "    metadata={\"source\": \"tweet\"},\n",
        "    id=1,\n",
        ")\n",
        "\n",
        "document_2 = Document(\n",
        "    page_content=\"The weather forecast for tomorrow is cloudy and overcast, with a high of 62 degrees.\",\n",
        "    metadata={\"source\": \"news\"},\n",
        "    id=2,\n",
        ")\n",
        "\n",
        "document_3 = Document(\n",
        "    page_content=\"Building an exciting new project with LangChain - come check it out!\",\n",
        "    metadata={\"source\": \"tweet\"},\n",
        "    id=3,\n",
        ")\n",
        "\n",
        "document_4 = Document(\n",
        "    page_content=\"Robbers broke into the city bank and stole $1 million in cash.\",\n",
        "    metadata={\"source\": \"news\"},\n",
        "    id=4,\n",
        ")\n",
        "\n",
        "document_5 = Document(\n",
        "    page_content=\"Wow! That was an amazing movie. I can't wait to see it again.\",\n",
        "    metadata={\"source\": \"tweet\"},\n",
        "    id=5,\n",
        ")\n",
        "\n",
        "document_6 = Document(\n",
        "    page_content=\"Is the new iPhone worth the price? Read this review to find out.\",\n",
        "    metadata={\"source\": \"website\"},\n",
        "    id=6,\n",
        ")\n",
        "\n",
        "document_7 = Document(\n",
        "    page_content=\"The top 10 soccer players in the world right now.\",\n",
        "    metadata={\"source\": \"website\"},\n",
        "    id=7,\n",
        ")\n",
        "\n",
        "document_8 = Document(\n",
        "    page_content=\"LangGraph is the best framework for building stateful, agentic applications!\",\n",
        "    metadata={\"source\": \"tweet\"},\n",
        "    id=8,\n",
        ")\n",
        "\n",
        "document_9 = Document(\n",
        "    page_content=\"The stock market is down 500 points today due to fears of a recession.\",\n",
        "    metadata={\"source\": \"news\"},\n",
        "    id=9,\n",
        ")\n",
        "\n",
        "document_10 = Document(\n",
        "    page_content=\"I have a bad feeling I am going to get deleted :(\",\n",
        "    metadata={\"source\": \"tweet\"},\n",
        "    id=10,\n",
        ")\n",
        "\n",
        "documents = [\n",
        "    document_1,\n",
        "    document_2,\n",
        "    document_3,\n",
        "    document_4,\n",
        "    document_5,\n",
        "    document_6,\n",
        "    document_7,\n",
        "    document_8,\n",
        "    document_9,\n",
        "    document_10,\n",
        "]\n",
        "uuids = [str(uuid4()) for _ in range(len(documents))]\n",
        "\n",
        "vector_store.add_documents(documents=documents, ids=uuids)"
      ]
    },
    {
      "cell_type": "markdown",
      "id": "7add6366",
      "metadata": {
        "id": "7add6366"
      },
      "source": [
        "### Update items in vector store\n",
        "\n",
        "Now that we have added documents to our vector store, we can update existing documents by using the `update_documents` function."
      ]
    },
    {
      "cell_type": "code",
      "execution_count": 9,
      "id": "ef5dbd1e",
      "metadata": {
        "id": "ef5dbd1e"
      },
      "outputs": [],
      "source": [
        "updated_document_1 = Document(\n",
        "    page_content=\"I had chocolate chip pancakes and fried eggs for breakfast this morning.\",\n",
        "    metadata={\"source\": \"tweet\"},\n",
        "    id=1,\n",
        ")\n",
        "\n",
        "updated_document_2 = Document(\n",
        "    page_content=\"The weather forecast for tomorrow is sunny and warm, with a high of 82 degrees.\",\n",
        "    metadata={\"source\": \"news\"},\n",
        "    id=2,\n",
        ")\n",
        "\n",
        "vector_store.update_document(document_id=uuids[0], document=updated_document_1)\n",
        "# You can also update multiple documents at once\n",
        "vector_store.update_documents(\n",
        "    ids=uuids[:2], documents=[updated_document_1, updated_document_2]\n",
        ")"
      ]
    },
    {
      "cell_type": "markdown",
      "id": "74b9a13a",
      "metadata": {
        "id": "74b9a13a"
      },
      "source": [
        "### Delete items from vector store\n",
        "\n",
        "We can also delete items from our vector store as follows:"
      ]
    },
    {
      "cell_type": "code",
      "execution_count": 10,
      "id": "56f17791",
      "metadata": {
        "id": "56f17791"
      },
      "outputs": [],
      "source": [
        "vector_store.delete(ids=uuids[-1])"
      ]
    },
    {
      "cell_type": "markdown",
      "id": "213acf08",
      "metadata": {
        "id": "213acf08"
      },
      "source": [
        "## Query vector store\n",
        "\n",
        "Once your vector store has been created and the relevant documents have been added you will most likely wish to query it during the running of your chain or agent.\n",
        "\n",
        "### Query directly\n",
        "\n",
        "#### Similarity search\n",
        "\n",
        "Performing a simple similarity search can be done as follows:"
      ]
    },
    {
      "cell_type": "code",
      "execution_count": 11,
      "id": "e2b96fcf",
      "metadata": {
        "id": "e2b96fcf",
        "outputId": "ced69bca-afa2-42ea-c9eb-96f87dfcb343"
      },
      "outputs": [
        {
          "name": "stdout",
          "output_type": "stream",
          "text": [
            "* Building an exciting new project with LangChain - come check it out! [{'source': 'tweet'}]\n",
            "* LangGraph is the best framework for building stateful, agentic applications! [{'source': 'tweet'}]\n"
          ]
        }
      ],
      "source": [
        "results = vector_store.similarity_search(\n",
        "    \"LangChain provides abstractions to make working with LLMs easy\",\n",
        "    k=2,\n",
        "    filter={\"source\": \"tweet\"},\n",
        ")\n",
        "for res in results:\n",
        "    print(f\"* {res.page_content} [{res.metadata}]\")"
      ]
    },
    {
      "cell_type": "markdown",
      "id": "cdd117ea",
      "metadata": {
        "id": "cdd117ea"
      },
      "source": [
        "#### Similarity search with score\n",
        "\n",
        "If you want to execute a similarity search and receive the corresponding scores you can run:"
      ]
    },
    {
      "cell_type": "code",
      "execution_count": 12,
      "id": "2768a331",
      "metadata": {
        "id": "2768a331",
        "outputId": "318befd6-5ae3-41dd-a04b-9120c4a495d5"
      },
      "outputs": [
        {
          "name": "stdout",
          "output_type": "stream",
          "text": [
            "* [SIM=0.807193] The weather forecast for tomorrow is sunny and warm, with a high of 82 degrees. [{'source': 'news'}]\n"
          ]
        }
      ],
      "source": [
        "results = vector_store.similarity_search_with_score(\n",
        "    \"Will it be hot tomorrow?\", k=1, filter={\"source\": \"news\"}\n",
        ")\n",
        "for res, score in results:\n",
        "    print(f\"* [SIM={score:3f}] {res.page_content} [{res.metadata}]\")"
      ]
    },
    {
      "cell_type": "markdown",
      "id": "92b436c8",
      "metadata": {
        "id": "92b436c8"
      },
      "source": [
        "#### Search by vector\n",
        "\n",
        "You can also search by vector:"
      ]
    },
    {
      "cell_type": "code",
      "execution_count": 13,
      "id": "8ea434a5",
      "metadata": {
        "id": "8ea434a5",
        "outputId": "3fb664d4-c7c9-4eef-92ba-57776f37aed6"
      },
      "outputs": [
        {
          "name": "stdout",
          "output_type": "stream",
          "text": [
            "* I had chocolate chip pancakes and fried eggs for breakfast this morning. [{'source': 'tweet'}]\n"
          ]
        }
      ],
      "source": [
        "results = vector_store.similarity_search_by_vector(\n",
        "    embedding=embeddings.embed_query(\"I love green eggs and ham!\"), k=1\n",
        ")\n",
        "for doc in results:\n",
        "    print(f\"* {doc.page_content} [{doc.metadata}]\")"
      ]
    },
    {
      "cell_type": "markdown",
      "id": "9c1c1e6f",
      "metadata": {
        "id": "9c1c1e6f"
      },
      "source": [
        "#### Other search methods\n",
        "\n",
        "There are a variety of other search methods that are not covered in this notebook, such as MMR search or searching by vector. For a full list of the search abilities available for `AstraDBVectorStore` check out the [API reference](https://python.langchain.com/api_reference/astradb/vectorstores/langchain_astradb.vectorstores.AstraDBVectorStore.html).\n",
        "\n",
        "### Query by turning into retriever\n",
        "\n",
        "You can also transform the vector store into a retriever for easier usage in your chains. For more information on the different search types and kwargs you can pass, please visit the API reference [here](https://python.langchain.com/api_reference/chroma/vectorstores/langchain_chroma.vectorstores.Chroma.html#langchain_chroma.vectorstores.Chroma.as_retriever)."
      ]
    },
    {
      "cell_type": "code",
      "execution_count": 14,
      "id": "7b6f7867",
      "metadata": {
        "id": "7b6f7867",
        "outputId": "04f90a76-098f-4be8-cfda-9245faf820e3"
      },
      "outputs": [
        {
          "data": {
            "text/plain": [
              "[Document(id='15dd7b20-4c1c-4bd5-ba40-8709e5704933', metadata={'source': 'news'}, page_content='Robbers broke into the city bank and stole $1 million in cash.')]"
            ]
          },
          "execution_count": 14,
          "metadata": {},
          "output_type": "execute_result"
        }
      ],
      "source": [
        "retriever = vector_store.as_retriever(\n",
        "    search_type=\"mmr\", search_kwargs={\"k\": 1, \"fetch_k\": 5}\n",
        ")\n",
        "retriever.invoke(\"Stealing from the bank is a crime\", filter={\"source\": \"news\"})"
      ]
    },
    {
      "cell_type": "markdown",
      "id": "a2b7b73c",
      "metadata": {
        "id": "a2b7b73c"
      },
      "source": [
        "## Usage for retrieval-augmented generation\n",
        "\n",
        "For guides on how to use this vector store for retrieval-augmented generation (RAG), see the following sections:\n",
        "\n",
        "- [Tutorials](/docs/tutorials/)\n",
        "- [How-to: Question and answer with RAG](https://python.langchain.com/docs/how_to/#qa-with-rag)\n",
        "- [Retrieval conceptual docs](https://python.langchain.com/docs/concepts/retrieval)"
      ]
    },
    {
      "cell_type": "markdown",
      "id": "fed28359",
      "metadata": {
        "id": "fed28359"
      },
      "source": [
        "## API reference\n",
        "\n",
        "For detailed documentation of all `Chroma` vector store features and configurations head to the API reference: https://python.langchain.com/api_reference/chroma/vectorstores/langchain_chroma.vectorstores.Chroma.html"
      ]
    }
  ],
  "metadata": {
    "colab": {
      "provenance": []
    },
    "kernelspec": {
      "display_name": "venv",
      "language": "python",
      "name": "python3"
    },
    "language_info": {
      "codemirror_mode": {
        "name": "ipython",
        "version": 3
      },
      "file_extension": ".py",
      "mimetype": "text/x-python",
      "name": "python",
      "nbconvert_exporter": "python",
      "pygments_lexer": "ipython3",
      "version": "3.12.1"
    }
  },
  "nbformat": 4,
  "nbformat_minor": 5
}
